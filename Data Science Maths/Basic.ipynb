{
 "cells": [
  {
   "cell_type": "markdown",
   "id": "6d11628f-e8c9-4b27-ab8a-9d4201ce2148",
   "metadata": {},
   "source": [
    "# Import Librarys"
   ]
  },
  {
   "cell_type": "code",
   "execution_count": 1,
   "id": "0ee973ca-e654-42ba-81f6-73329e71a8da",
   "metadata": {},
   "outputs": [],
   "source": [
    "import numpy as np\n",
    "import pandas as pd\n",
    "import matplotlib.pyplot as plt\n",
    "import seaborn as sns"
   ]
  },
  {
   "cell_type": "markdown",
   "id": "e26083e8-9012-420c-88d9-b4596301828d",
   "metadata": {},
   "source": [
    "# Import Datasets"
   ]
  },
  {
   "cell_type": "code",
   "execution_count": 2,
   "id": "65713598-13f5-478c-9c4e-e52f919cc8c1",
   "metadata": {},
   "outputs": [],
   "source": [
    "titanic_df = pd.read_csv('../Dataset/titanic.csv')\n",
    "tips_df = pd.read_csv('../Dataset/tips.csv')"
   ]
  },
  {
   "cell_type": "code",
   "execution_count": 3,
   "id": "7eb59cf7-b457-4c99-ad57-1ef40a762870",
   "metadata": {},
   "outputs": [
    {
     "data": {
      "text/html": [
       "<div>\n",
       "<style scoped>\n",
       "    .dataframe tbody tr th:only-of-type {\n",
       "        vertical-align: middle;\n",
       "    }\n",
       "\n",
       "    .dataframe tbody tr th {\n",
       "        vertical-align: top;\n",
       "    }\n",
       "\n",
       "    .dataframe thead th {\n",
       "        text-align: right;\n",
       "    }\n",
       "</style>\n",
       "<table border=\"1\" class=\"dataframe\">\n",
       "  <thead>\n",
       "    <tr style=\"text-align: right;\">\n",
       "      <th></th>\n",
       "      <th>survived</th>\n",
       "      <th>pclass</th>\n",
       "      <th>sex</th>\n",
       "      <th>age</th>\n",
       "      <th>sibsp</th>\n",
       "      <th>parch</th>\n",
       "      <th>fare</th>\n",
       "      <th>embarked</th>\n",
       "      <th>class</th>\n",
       "      <th>who</th>\n",
       "      <th>adult_male</th>\n",
       "      <th>deck</th>\n",
       "      <th>embark_town</th>\n",
       "      <th>alive</th>\n",
       "      <th>alone</th>\n",
       "    </tr>\n",
       "  </thead>\n",
       "  <tbody>\n",
       "    <tr>\n",
       "      <th>0</th>\n",
       "      <td>0</td>\n",
       "      <td>3</td>\n",
       "      <td>male</td>\n",
       "      <td>22.0</td>\n",
       "      <td>1</td>\n",
       "      <td>0</td>\n",
       "      <td>7.2500</td>\n",
       "      <td>S</td>\n",
       "      <td>Third</td>\n",
       "      <td>man</td>\n",
       "      <td>True</td>\n",
       "      <td>NaN</td>\n",
       "      <td>Southampton</td>\n",
       "      <td>no</td>\n",
       "      <td>False</td>\n",
       "    </tr>\n",
       "    <tr>\n",
       "      <th>1</th>\n",
       "      <td>1</td>\n",
       "      <td>1</td>\n",
       "      <td>female</td>\n",
       "      <td>38.0</td>\n",
       "      <td>1</td>\n",
       "      <td>0</td>\n",
       "      <td>71.2833</td>\n",
       "      <td>C</td>\n",
       "      <td>First</td>\n",
       "      <td>woman</td>\n",
       "      <td>False</td>\n",
       "      <td>C</td>\n",
       "      <td>Cherbourg</td>\n",
       "      <td>yes</td>\n",
       "      <td>False</td>\n",
       "    </tr>\n",
       "    <tr>\n",
       "      <th>2</th>\n",
       "      <td>1</td>\n",
       "      <td>3</td>\n",
       "      <td>female</td>\n",
       "      <td>26.0</td>\n",
       "      <td>0</td>\n",
       "      <td>0</td>\n",
       "      <td>7.9250</td>\n",
       "      <td>S</td>\n",
       "      <td>Third</td>\n",
       "      <td>woman</td>\n",
       "      <td>False</td>\n",
       "      <td>NaN</td>\n",
       "      <td>Southampton</td>\n",
       "      <td>yes</td>\n",
       "      <td>True</td>\n",
       "    </tr>\n",
       "  </tbody>\n",
       "</table>\n",
       "</div>"
      ],
      "text/plain": [
       "   survived  pclass     sex   age  sibsp  parch     fare embarked  class  \\\n",
       "0         0       3    male  22.0      1      0   7.2500        S  Third   \n",
       "1         1       1  female  38.0      1      0  71.2833        C  First   \n",
       "2         1       3  female  26.0      0      0   7.9250        S  Third   \n",
       "\n",
       "     who  adult_male deck  embark_town alive  alone  \n",
       "0    man        True  NaN  Southampton    no  False  \n",
       "1  woman       False    C    Cherbourg   yes  False  \n",
       "2  woman       False  NaN  Southampton   yes   True  "
      ]
     },
     "execution_count": 3,
     "metadata": {},
     "output_type": "execute_result"
    }
   ],
   "source": [
    "titanic_df.head(3)"
   ]
  },
  {
   "cell_type": "markdown",
   "id": "85a5c96b-ceab-4371-96e7-df3dd7e99352",
   "metadata": {},
   "source": [
    "# Measure of Central Tendency (Median, Mean, Mode)"
   ]
  },
  {
   "cell_type": "markdown",
   "id": "64931697-7404-4a5d-8acf-c98866572a8e",
   "metadata": {},
   "source": [
    "## Mean"
   ]
  },
  {
   "cell_type": "code",
   "execution_count": 4,
   "id": "e18c1b19-69e7-4654-ba73-b5704081cc10",
   "metadata": {},
   "outputs": [
    {
     "data": {
      "text/plain": [
       "np.float64(29.69911764705882)"
      ]
     },
     "execution_count": 4,
     "metadata": {},
     "output_type": "execute_result"
    }
   ],
   "source": [
    "titanic_df['age'].mean()"
   ]
  },
  {
   "cell_type": "code",
   "execution_count": 5,
   "id": "f65ff46c-78dd-4e8a-8f5a-af75a9fa3f61",
   "metadata": {},
   "outputs": [
    {
     "data": {
      "image/png": "[encoded data removed]",
      "text/plain": [
       "<Figure size 640x480 with 1 Axes>"
      ]
     },
     "metadata": {},
     "output_type": "display_data"
    }
   ],
   "source": [
    "mn = np.mean(titanic_df['age'])\n",
    "sns.histplot(x = 'age', data=titanic_df, bins=[i for i in range(1, 81, 10)])\n",
    "plt.plot([mn for i in range(300)], [i for i in range(300)], c = 'red')\n",
    " \n",
    "plt.show()"
   ]
  },
  {
   "cell_type": "code",
   "execution_count": 6,
   "id": "dab1971d-5c9a-498a-b478-c69a3e35474d",
   "metadata": {},
   "outputs": [],
   "source": [
    "titanic_df.fillna({'age': titanic_df['age'].mean()}, inplace=True)"
   ]
  },
  {
   "cell_type": "markdown",
   "id": "d6917c7f-3b7d-480d-a9dc-d83f2bf596f1",
   "metadata": {},
   "source": [
    "## Median"
   ]
  },
  {
   "cell_type": "code",
   "execution_count": 7,
   "id": "7594f6ce-cd65-4935-b121-f009892bfd44",
   "metadata": {},
   "outputs": [
    {
     "data": {
      "text/plain": [
       "np.float64(14.4542)"
      ]
     },
     "execution_count": 7,
     "metadata": {},
     "output_type": "execute_result"
    }
   ],
   "source": [
    "titanic_df['fare'].median()"
   ]
  },
  {
   "cell_type": "code",
   "execution_count": 8,
   "id": "67f155f7-11d5-44bc-99f2-35a9c6a0b061",
   "metadata": {},
   "outputs": [
    {
     "data": {
      "image/png": "[encoded data removed]",
      "text/plain": [
       "<Figure size 640x480 with 1 Axes>"
      ]
     },
     "metadata": {},
     "output_type": "display_data"
    }
   ],
   "source": [
    "mn = np.mean(titanic_df['age'])\n",
    "md = np.median(titanic_df['fare'])\n",
    "\n",
    "sns.histplot(x = 'age', data=titanic_df, bins=[i for i in range(1, 81, 10)])\n",
    "plt.plot([mn for i in range(300)], [i for i in range(300)], c = 'red')\n",
    "plt.plot([md for i in range(300)], [i for i in range(300)], c = 'green')\n",
    "\n",
    "plt.show()"
   ]
  },
  {
   "cell_type": "markdown",
   "id": "f1dac857-7348-4157-bc06-32e3a201d4bd",
   "metadata": {},
   "source": [
    "## Mode"
   ]
  },
  {
   "cell_type": "code",
   "execution_count": 9,
   "id": "2e23ffc7-3050-4c7c-94e1-f1354c8f9089",
   "metadata": {},
   "outputs": [],
   "source": [
    "mo = titanic_df['fare'].mode()[0]"
   ]
  },
  {
   "cell_type": "code",
   "execution_count": 10,
   "id": "df68f183-a48d-4be5-910c-9fe7039b8834",
   "metadata": {},
   "outputs": [
    {
     "data": {
      "text/plain": [
       "fare\n",
       "8.0500     43\n",
       "13.0000    42\n",
       "7.8958     38\n",
       "7.7500     34\n",
       "26.0000    31\n",
       "           ..\n",
       "13.8583     1\n",
       "50.4958     1\n",
       "5.0000      1\n",
       "9.8458      1\n",
       "10.5167     1\n",
       "Name: count, Length: 248, dtype: int64"
      ]
     },
     "execution_count": 10,
     "metadata": {},
     "output_type": "execute_result"
    }
   ],
   "source": [
    "titanic_df['fare'].value_counts()"
   ]
  },
  {
   "cell_type": "code",
   "execution_count": 11,
   "id": "cd88df7a-8393-4d22-848f-510ddad6cca4",
   "metadata": {},
   "outputs": [
    {
     "data": {
      "image/png": "[encoded data removed]",
      "text/plain": [
       "<Figure size 640x480 with 1 Axes>"
      ]
     },
     "metadata": {},
     "output_type": "display_data"
    }
   ],
   "source": [
    "mn = np.mean(titanic_df['age'])\n",
    "md = np.median(titanic_df['fare'])\n",
    "mo = titanic_df['fare'].mode()[0]\n",
    "\n",
    "sns.histplot(x = 'age', data=titanic_df, bins=[i for i in range(1, 81, 10)])\n",
    "plt.plot([mn for i in range(300)], [i for i in range(300)], c = 'red', label='mean')\n",
    "plt.plot([md for i in range(300)], [i for i in range(300)], c = 'green', label='median')\n",
    "plt.plot([mo for i in range(300)], [i for i in range(300)], c = 'blue', label='mode')\n",
    "plt.legend()\n",
    "\n",
    "plt.show()"
   ]
  },
  {
   "cell_type": "markdown",
   "id": "38ceec38-98ff-4965-ad6c-187908729376",
   "metadata": {},
   "source": [
    "## Range"
   ]
  },
  {
   "cell_type": "code",
   "execution_count": 12,
   "id": "338844f3-1669-4a78-a7c3-85825d388ba6",
   "metadata": {},
   "outputs": [
    {
     "data": {
      "text/plain": [
       "np.float64(79.58)"
      ]
     },
     "execution_count": 12,
     "metadata": {},
     "output_type": "execute_result"
    }
   ],
   "source": [
    "minimum = titanic_df['age'].min()\n",
    "maximum = titanic_df['age'].max()\n",
    "\n",
    "ranges = maximum - minimum\n",
    "ranges"
   ]
  },
  {
   "cell_type": "markdown",
   "id": "3974ffe4-35ae-4d81-9c83-8b41fe47d896",
   "metadata": {},
   "source": [
    "# Find Best Dataset"
   ]
  },
  {
   "cell_type": "markdown",
   "id": "25d117da-1c61-48d0-8f1c-b5c396b68d11",
   "metadata": {},
   "source": [
    "# Measures of Variability"
   ]
  },
  {
   "cell_type": "markdown",
   "id": "333043c9-2c0b-44fc-971c-052b9d97acc5",
   "metadata": {},
   "source": [
    "### Note: Whichever database has the lowest standard deviation, MAD, and variance will be the best for us, and we will use that database."
   ]
  },
  {
   "cell_type": "markdown",
   "id": "39928d60-c809-4871-9ae4-ad0fc1ed17bf",
   "metadata": {},
   "source": [
    "## 1. MAD (Mean Absolute Deviation)"
   ]
  },
  {
   "cell_type": "code",
   "execution_count": 13,
   "id": "4ea09c83-2ac1-4706-91bf-f676b0f88d5f",
   "metadata": {},
   "outputs": [
    {
     "data": {
      "image/png": "[encoded data removed]",
      "text/plain": [
       "<Figure size 640x480 with 1 Axes>"
      ]
     },
     "metadata": {},
     "output_type": "display_data"
    }
   ],
   "source": [
    "sec_a = np.array([75, 65, 73, 68, 72, 76])\n",
    "sec_b = np.array([90, 47, 43, 96, 93, 51])\n",
    "no = np.array([1, 2, 3, 4, 5, 6])\n",
    "means = np.mean(sec_a) # Both of them mean are same\n",
    "\n",
    "plt.scatter(x = sec_a, y = no, label='Sec A')\n",
    "plt.scatter(x = sec_b, y = no, color = 'r', label='Sec B')\n",
    "plt.plot([70, 70, 70, 70, 70, 70], no, color='green', label='Mean')\n",
    "plt.legend()\n",
    "\n",
    "plt.show()"
   ]
  },
  {
   "cell_type": "markdown",
   "id": "bd7675f1-8183-4004-9973-4df97ede1e2f",
   "metadata": {},
   "source": [
    "## Mean Absolute Deviation Formula: $$ MAD = \\frac{\\sum |x_i - \\bar{x}|}{n} $$\n"
   ]
  },
  {
   "cell_type": "code",
   "execution_count": 14,
   "id": "f884c97b-c4c1-4f37-9e22-ac6dfaac3b06",
   "metadata": {},
   "outputs": [
    {
     "name": "stdout",
     "output_type": "stream",
     "text": [
      "[75 65 73 68 72 76]\n",
      "71.5\n",
      "71.5\n"
     ]
    },
    {
     "data": {
      "text/plain": [
       "np.float64(9.073605334389647)"
      ]
     },
     "execution_count": 14,
     "metadata": {},
     "output_type": "execute_result"
    }
   ],
   "source": [
    "print(sec_a)\n",
    "print(sec_a.mean())\n",
    "print(abs(sec_a.mean()))\n",
    "np.sum(abs(titanic_df['age'] - titanic_df['age'].mean()))/len(titanic_df['age'])"
   ]
  },
  {
   "cell_type": "code",
   "execution_count": 15,
   "id": "a4fb0b36-af1d-42ab-b77e-1583b017f357",
   "metadata": {},
   "outputs": [
    {
     "name": "stdout",
     "output_type": "stream",
     "text": [
      "3.3333333333333335\n",
      "23.0\n"
     ]
    }
   ],
   "source": [
    "MAD_a = np.sum(abs(sec_a - sec_a.mean()))/len(sec_a)\n",
    "MAD_b = np.sum(abs(sec_b - sec_b.mean()))/len(sec_b)\n",
    "\n",
    "print(MAD_a)\n",
    "print(MAD_b)"
   ]
  },
  {
   "cell_type": "markdown",
   "id": "0c211232-6021-414c-8bfb-1cef1100841a",
   "metadata": {},
   "source": [
    "## 2. Standard Devision Formula: $$ \\sigma = \\sqrt{\\frac{\\sum (x_i - \\mu)^2}{N}} $$"
   ]
  },
  {
   "cell_type": "code",
   "execution_count": 16,
   "id": "c9467c04-df28-4204-b702-e251b542d610",
   "metadata": {},
   "outputs": [
    {
     "name": "stdout",
     "output_type": "stream",
     "text": [
      "3.8622100754188224 23.18045153428495\n"
     ]
    }
   ],
   "source": [
    "print(np.std(sec_a), np.std(sec_b))"
   ]
  },
  {
   "cell_type": "markdown",
   "id": "6ed5011c-5833-4f3a-b61a-a07b45fd213c",
   "metadata": {},
   "source": [
    "## 3. Variance Formula: $$ \\sigma^2 = \\frac{\\sum (x_i - \\mu)}{N} $$"
   ]
  },
  {
   "cell_type": "markdown",
   "id": "37ce7bcc-0db3-4048-9f6a-3a064e800c93",
   "metadata": {},
   "source": [
    "### Note: Standard Devision and Variance both are same there is diffrence is bar -\\\\|--- or sigma^2 "
   ]
  },
  {
   "cell_type": "code",
   "execution_count": 17,
   "id": "89710dab-c89f-422d-bc13-10f2cda9d36e",
   "metadata": {},
   "outputs": [
    {
     "name": "stdout",
     "output_type": "stream",
     "text": [
      "14.916666666666666 537.3333333333334\n"
     ]
    }
   ],
   "source": [
    "print(np.var(sec_a), np.var(sec_b))"
   ]
  },
  {
   "cell_type": "markdown",
   "id": "1ce88544-1e8d-43ec-b828-724a99158977",
   "metadata": {},
   "source": [
    "### Std ** 2 == Variance"
   ]
  },
  {
   "cell_type": "code",
   "execution_count": 18,
   "id": "8999e552-9993-4acb-8b98-441ca9cd2665",
   "metadata": {},
   "outputs": [
    {
     "data": {
      "text/plain": [
       "14.916666666666666"
      ]
     },
     "execution_count": 18,
     "metadata": {},
     "output_type": "execute_result"
    }
   ],
   "source": [
    "(3.8622100754188224 ) ** 2"
   ]
  },
  {
   "cell_type": "code",
   "execution_count": 19,
   "id": "280bd747-e35d-40f0-af26-247ff54dba8e",
   "metadata": {},
   "outputs": [
    {
     "data": {
      "text/html": [
       "<div>\n",
       "<style scoped>\n",
       "    .dataframe tbody tr th:only-of-type {\n",
       "        vertical-align: middle;\n",
       "    }\n",
       "\n",
       "    .dataframe tbody tr th {\n",
       "        vertical-align: top;\n",
       "    }\n",
       "\n",
       "    .dataframe thead th {\n",
       "        text-align: right;\n",
       "    }\n",
       "</style>\n",
       "<table border=\"1\" class=\"dataframe\">\n",
       "  <thead>\n",
       "    <tr style=\"text-align: right;\">\n",
       "      <th></th>\n",
       "      <th>survived</th>\n",
       "      <th>pclass</th>\n",
       "      <th>age</th>\n",
       "      <th>sibsp</th>\n",
       "      <th>parch</th>\n",
       "      <th>fare</th>\n",
       "    </tr>\n",
       "  </thead>\n",
       "  <tbody>\n",
       "    <tr>\n",
       "      <th>count</th>\n",
       "      <td>891.000000</td>\n",
       "      <td>891.000000</td>\n",
       "      <td>891.000000</td>\n",
       "      <td>891.000000</td>\n",
       "      <td>891.000000</td>\n",
       "      <td>891.000000</td>\n",
       "    </tr>\n",
       "    <tr>\n",
       "      <th>mean</th>\n",
       "      <td>0.383838</td>\n",
       "      <td>2.308642</td>\n",
       "      <td>29.699118</td>\n",
       "      <td>0.523008</td>\n",
       "      <td>0.381594</td>\n",
       "      <td>32.204208</td>\n",
       "    </tr>\n",
       "    <tr>\n",
       "      <th>std</th>\n",
       "      <td>0.486592</td>\n",
       "      <td>0.836071</td>\n",
       "      <td>13.002015</td>\n",
       "      <td>1.102743</td>\n",
       "      <td>0.806057</td>\n",
       "      <td>49.693429</td>\n",
       "    </tr>\n",
       "    <tr>\n",
       "      <th>min</th>\n",
       "      <td>0.000000</td>\n",
       "      <td>1.000000</td>\n",
       "      <td>0.420000</td>\n",
       "      <td>0.000000</td>\n",
       "      <td>0.000000</td>\n",
       "      <td>0.000000</td>\n",
       "    </tr>\n",
       "    <tr>\n",
       "      <th>25%</th>\n",
       "      <td>0.000000</td>\n",
       "      <td>2.000000</td>\n",
       "      <td>22.000000</td>\n",
       "      <td>0.000000</td>\n",
       "      <td>0.000000</td>\n",
       "      <td>7.910400</td>\n",
       "    </tr>\n",
       "    <tr>\n",
       "      <th>50%</th>\n",
       "      <td>0.000000</td>\n",
       "      <td>3.000000</td>\n",
       "      <td>29.699118</td>\n",
       "      <td>0.000000</td>\n",
       "      <td>0.000000</td>\n",
       "      <td>14.454200</td>\n",
       "    </tr>\n",
       "    <tr>\n",
       "      <th>75%</th>\n",
       "      <td>1.000000</td>\n",
       "      <td>3.000000</td>\n",
       "      <td>35.000000</td>\n",
       "      <td>1.000000</td>\n",
       "      <td>0.000000</td>\n",
       "      <td>31.000000</td>\n",
       "    </tr>\n",
       "    <tr>\n",
       "      <th>max</th>\n",
       "      <td>1.000000</td>\n",
       "      <td>3.000000</td>\n",
       "      <td>80.000000</td>\n",
       "      <td>8.000000</td>\n",
       "      <td>6.000000</td>\n",
       "      <td>512.329200</td>\n",
       "    </tr>\n",
       "  </tbody>\n",
       "</table>\n",
       "</div>"
      ],
      "text/plain": [
       "         survived      pclass         age       sibsp       parch        fare\n",
       "count  891.000000  891.000000  891.000000  891.000000  891.000000  891.000000\n",
       "mean     0.383838    2.308642   29.699118    0.523008    0.381594   32.204208\n",
       "std      0.486592    0.836071   13.002015    1.102743    0.806057   49.693429\n",
       "min      0.000000    1.000000    0.420000    0.000000    0.000000    0.000000\n",
       "25%      0.000000    2.000000   22.000000    0.000000    0.000000    7.910400\n",
       "50%      0.000000    3.000000   29.699118    0.000000    0.000000   14.454200\n",
       "75%      1.000000    3.000000   35.000000    1.000000    0.000000   31.000000\n",
       "max      1.000000    3.000000   80.000000    8.000000    6.000000  512.329200"
      ]
     },
     "execution_count": 19,
     "metadata": {},
     "output_type": "execute_result"
    }
   ],
   "source": [
    "titanic_df.describe()"
   ]
  },
  {
   "cell_type": "code",
   "execution_count": 20,
   "id": "0d3c1329-48a8-44e4-affe-49512d78b572",
   "metadata": {},
   "outputs": [
    {
     "data": {
      "text/plain": [
       "count    891.000000\n",
       "mean      29.699118\n",
       "std       13.002015\n",
       "min        0.420000\n",
       "25%       22.000000\n",
       "50%       29.699118\n",
       "75%       35.000000\n",
       "max       80.000000\n",
       "Name: age, dtype: float64"
      ]
     },
     "execution_count": 20,
     "metadata": {},
     "output_type": "execute_result"
    }
   ],
   "source": [
    "titanic_df['age'].describe()"
   ]
  },
  {
   "cell_type": "markdown",
   "id": "c06bf831-01fd-4d46-aed9-7bde97f1876e",
   "metadata": {},
   "source": [
    "## Percentile()"
   ]
  },
  {
   "cell_type": "code",
   "execution_count": 21,
   "id": "6b883166-ff4b-4590-a054-46ab1959b1ae",
   "metadata": {},
   "outputs": [
    {
     "data": {
      "text/plain": [
       "np.float64(22.0)"
      ]
     },
     "execution_count": 21,
     "metadata": {},
     "output_type": "execute_result"
    }
   ],
   "source": [
    "np.percentile(titanic_df['age'], 25)"
   ]
  },
  {
   "cell_type": "code",
   "execution_count": 22,
   "id": "fa17fd8a-58ec-42c5-be04-7d700eec99ea",
   "metadata": {},
   "outputs": [
    {
     "data": {
      "text/plain": [
       "np.float64(35.0)"
      ]
     },
     "execution_count": 22,
     "metadata": {},
     "output_type": "execute_result"
    }
   ],
   "source": [
    "np.percentile(titanic_df['age'], 75)"
   ]
  },
  {
   "cell_type": "code",
   "execution_count": 23,
   "id": "c6b972e4-d218-496c-a5f9-37433e5b3761",
   "metadata": {},
   "outputs": [
    {
     "data": {
      "text/plain": [
       "np.float64(0.42)"
      ]
     },
     "execution_count": 23,
     "metadata": {},
     "output_type": "execute_result"
    }
   ],
   "source": [
    "np.percentile(titanic_df['age'], 0) # Minimum Value"
   ]
  },
  {
   "cell_type": "code",
   "execution_count": 24,
   "id": "5fb4de3e-4509-4c1b-9248-f3dcba7b9297",
   "metadata": {},
   "outputs": [
    {
     "data": {
      "text/plain": [
       "np.float64(80.0)"
      ]
     },
     "execution_count": 24,
     "metadata": {},
     "output_type": "execute_result"
    }
   ],
   "source": [
    "np.percentile(titanic_df['age'], 100) # Maximum Value"
   ]
  },
  {
   "cell_type": "code",
   "execution_count": 25,
   "id": "e1358ae6-e1b9-479a-94eb-f25dd76e29fc",
   "metadata": {},
   "outputs": [
    {
     "name": "stdout",
     "output_type": "stream",
     "text": [
      "29.69911764705882\n"
     ]
    },
    {
     "data": {
      "text/plain": [
       "np.float64(29.69911764705882)"
      ]
     },
     "execution_count": 25,
     "metadata": {},
     "output_type": "execute_result"
    }
   ],
   "source": [
    "print(titanic_df['age'].median())     # Median\n",
    "np.percentile(titanic_df['age'], 50)"
   ]
  },
  {
   "cell_type": "code",
   "execution_count": 26,
   "id": "e06f11d5-eb20-4a99-9f6f-8052ade7ac69",
   "metadata": {},
   "outputs": [
    {
     "data": {
      "text/plain": [
       "count    891.000000\n",
       "mean      29.699118\n",
       "std       13.002015\n",
       "min        0.420000\n",
       "25%       22.000000\n",
       "50%       29.699118\n",
       "75%       35.000000\n",
       "max       80.000000\n",
       "Name: age, dtype: float64"
      ]
     },
     "execution_count": 26,
     "metadata": {},
     "output_type": "execute_result"
    }
   ],
   "source": [
    "titanic_df['age'].describe()"
   ]
  },
  {
   "cell_type": "markdown",
   "id": "9853939d-4b24-4148-84d7-2c14ef2a44ca",
   "metadata": {},
   "source": [
    "## Skewness()"
   ]
  },
  {
   "cell_type": "code",
   "execution_count": 27,
   "id": "5392d814-9d90-4a88-b26b-9116f3f50239",
   "metadata": {},
   "outputs": [],
   "source": [
    "# Skewness stand for how much data is Spred"
   ]
  },
  {
   "cell_type": "markdown",
   "id": "7426c8f8-ac5b-4f82-8f43-d563ce4ddfe9",
   "metadata": {},
   "source": [
    "### Formula of Skewness: $$ \\text{Skewness} = \\frac{\\sum (x_i - \\bar{x})^3}{(N - 1) \\cdot \\sigma^3} $$"
   ]
  },
  {
   "cell_type": "markdown",
   "id": "cd0bbf2a-89c6-46d1-832e-c0bcf06c9891",
   "metadata": {},
   "source": [
    "### Note: <b>Cumulative Distribution</b> means it is obtained by adding up the frequencies as you move to the value"
   ]
  },
  {
   "cell_type": "code",
   "execution_count": 28,
   "id": "a0c17f71-593f-4547-ac83-a0aae3a43f3d",
   "metadata": {},
   "outputs": [],
   "source": [
    "xis = [1, 3, 5, 7, 8, 9] # 1 + 3 = 4, 4 + 5 = 9, 9 + 7 = 16\n",
    "cumulative_Distribution_of_xis = [1, 4, 9, 16, 24, 33]"
   ]
  },
  {
   "cell_type": "code",
   "execution_count": 29,
   "id": "b3adc0ca-ed35-4af7-8e04-3fbfc44f10cb",
   "metadata": {},
   "outputs": [],
   "source": [
    "# Negatively skewed / left skewed= mean < median < mode\n",
    "# Positively skewed / right skewed = mode < median < mean\n",
    "# Normal = mode = median = mean"
   ]
  },
  {
   "cell_type": "code",
   "execution_count": 30,
   "id": "c3637273-2af8-41e0-8573-6ec913dd5c77",
   "metadata": {},
   "outputs": [
    {
     "data": {
      "text/plain": [
       "np.float64(0.4344880940129925)"
      ]
     },
     "execution_count": 30,
     "metadata": {},
     "output_type": "execute_result"
    }
   ],
   "source": [
    "titanic_df['age'].skew()\n",
    "\n",
    "# if it is return Positive value than right skewed\n",
    "# if it is return Negative value than left skewed"
   ]
  },
  {
   "cell_type": "code",
   "execution_count": 31,
   "id": "4d146a0a-4b64-4c6b-9f97-8f02f28fabf3",
   "metadata": {},
   "outputs": [],
   "source": [
    "x = [2, 3, 3, 4, 4, 4, 5, 5, 5, 5, 6, 6, 6, 6, 6, 7, 7, 7, 7, 7, 7, 8, 8, 8, 8, 8, 9, 9, 9, 9, 10, 10, 10, 11, 11, 12]\n",
    "\n",
    "x_df = pd.DataFrame(x)"
   ]
  },
  {
   "cell_type": "code",
   "execution_count": 32,
   "id": "42666d49-e216-4b2b-a3c5-a42dd9ed7683",
   "metadata": {},
   "outputs": [
    {
     "name": "stdout",
     "output_type": "stream",
     "text": [
      "0    7.0\n",
      "dtype: float64 0    7.0\n",
      "dtype: float64    0\n",
      "0  7\n"
     ]
    }
   ],
   "source": [
    "x_df.skew()\n",
    "\n",
    "\n",
    "print(x_df.mean(), x_df.median(), x_df.mode())"
   ]
  },
  {
   "cell_type": "code",
   "execution_count": 33,
   "id": "7faabe38-2e13-4bd7-a0de-f6ef98ce0af3",
   "metadata": {},
   "outputs": [
    {
     "data": {
      "image/png": "[encoded data removed]",
      "text/plain": [
       "<Figure size 640x480 with 1 Axes>"
      ]
     },
     "metadata": {},
     "output_type": "display_data"
    }
   ],
   "source": [
    "sns.histplot(x_df, bins = [2, 3, 4, 5, 6, 7, 8, 9, 10, 11, 12, 13])\n",
    "\n",
    "plt.show() # Here we can show mean = median = mode this is normal skewed"
   ]
  },
  {
   "cell_type": "markdown",
   "id": "000472ec-eb8b-4833-b50e-9050c89087d8",
   "metadata": {},
   "source": [
    "## Random Variables"
   ]
  },
  {
   "cell_type": "code",
   "execution_count": 34,
   "id": "527555e5-3343-4b46-9218-42a111df316b",
   "metadata": {},
   "outputs": [],
   "source": [
    "# Note: there are two type of Randome Variable   \n",
    "# 1. Discret Variable: Countable number of distinct values. ex. Dice, Passo\n",
    "# 2. Value that in given range and Interval ex. 2.3, 5.2 but in range"
   ]
  },
  {
   "cell_type": "markdown",
   "id": "47739f33-7e9c-492d-81d5-09b98e567ebe",
   "metadata": {},
   "source": [
    "## Probaility:"
   ]
  },
  {
   "cell_type": "markdown",
   "id": "6929006f-eef9-4306-98b9-abcc4cd4f032",
   "metadata": {},
   "source": [
    "### Formula of Probaility: $$ P(A) = \\frac{\\text{Number of times A occurs}}{\\text{Total number of possible outcomes}} $$"
   ]
  },
  {
   "cell_type": "code",
   "execution_count": 35,
   "id": "212a4776-0d79-4db1-a11d-3489f24e7bbd",
   "metadata": {},
   "outputs": [],
   "source": [
    "# in dice probaility of 4 is 1/6"
   ]
  },
  {
   "cell_type": "markdown",
   "id": "93a2e24d-57ca-49a5-9c8b-28364b544827",
   "metadata": {},
   "source": [
    "## Probability Distribution & Function"
   ]
  },
  {
   "cell_type": "code",
   "execution_count": 36,
   "id": "e928fd09-5c40-4f26-a1ca-24fd337aabf1",
   "metadata": {},
   "outputs": [],
   "source": [
    "# Note: There are two types of Probability Distribution:\n",
    "# 1. Discrete Probability Distribution -- netural value\n",
    "# 2. Continuous Probability Distribution -- Floating Value"
   ]
  },
  {
   "cell_type": "code",
   "execution_count": 37,
   "id": "3dc3868e-5cd5-4329-b42d-c2ec0bd9f76b",
   "metadata": {},
   "outputs": [],
   "source": [
    "# Note: There are Three type of Probability Function:\n",
    "# 1. Probability Density Function (PDF)\n",
    "# 2. Probability Mass Function (PMF)\n",
    "# 3. Cumulative Density Function (CDF)"
   ]
  },
  {
   "cell_type": "markdown",
   "id": "2fd12326-41b4-48b2-9b22-f5b5aa6325d2",
   "metadata": {},
   "source": [
    "# Covariance and Correlation"
   ]
  },
  {
   "cell_type": "markdown",
   "id": "35065600-999c-43a0-a98f-a47d46fe5847",
   "metadata": {},
   "source": [
    "## Covariance"
   ]
  },
  {
   "cell_type": "markdown",
   "id": "f4a2af49-fe1a-4641-9057-9879868cd7c5",
   "metadata": {},
   "source": [
    "### Note: covariance signifies the direction of the linear relationsip between the two variables."
   ]
  },
  {
   "cell_type": "markdown",
   "id": "5029ff1e-44fd-4175-bfbc-2a809e48b253",
   "metadata": {},
   "source": [
    "### Formula: $$ \\text{Cov}(x,y) = \\frac{\\sum (x_i - \\bar{x})(y_i - \\bar{y})}{N} $$"
   ]
  },
  {
   "cell_type": "code",
   "execution_count": 38,
   "id": "853e86cf-77f9-498b-bf20-ae60f6fdff51",
   "metadata": {},
   "outputs": [],
   "source": [
    "# we have two columns x and y. \n",
    "# if x increase and y also increase then it's clled Positive Covariance\n",
    "# if x decrease and y increase then it's called Nagative Covarance\n",
    "# if x change but y have same value (y stable) then it's called zero(0) no-Covariance\n",
    "# Data range in -∞ to +∞"
   ]
  },
  {
   "cell_type": "markdown",
   "id": "54d787ef-f87d-4daf-ab85-b5f0a4302007",
   "metadata": {},
   "source": [
    "## Correlation"
   ]
  },
  {
   "cell_type": "markdown",
   "id": "2c823ea0-c4c8-432f-98c2-b7280fa07998",
   "metadata": {},
   "source": [
    "### Formula: $$\\text{Correlation} = \\frac{\\text{Cov}(x,y)}{\\sigma_x \\cdot \\sigma_y}$$"
   ]
  },
  {
   "cell_type": "code",
   "execution_count": 39,
   "id": "1e51cfec-6768-4ca4-b34e-4953ccd7a9ac",
   "metadata": {},
   "outputs": [],
   "source": [
    "# Note: Covariation and Correlation is almost same but main difference is range \n",
    "# Correlaton have value only in (-1 to 1) to Analysis better than Covariation"
   ]
  },
  {
   "cell_type": "code",
   "execution_count": 40,
   "id": "a6cb39d3-7e6e-40bf-bf9e-27c7e15af99a",
   "metadata": {},
   "outputs": [],
   "source": [
    "# 0 to -0.5 --> Week Negative Correlation\n",
    "# -0.5 to -1 --> Strong Negative Correlation\n",
    "# 0 to 0.5 --> week Positive Correlation\n",
    "# 0.5 to 1 --> Strong Positive Correlation"
   ]
  },
  {
   "cell_type": "code",
   "execution_count": 41,
   "id": "464993df-88fc-4316-bcc7-9e7aed675815",
   "metadata": {},
   "outputs": [
    {
     "data": {
      "text/html": [
       "<div>\n",
       "<style scoped>\n",
       "    .dataframe tbody tr th:only-of-type {\n",
       "        vertical-align: middle;\n",
       "    }\n",
       "\n",
       "    .dataframe tbody tr th {\n",
       "        vertical-align: top;\n",
       "    }\n",
       "\n",
       "    .dataframe thead th {\n",
       "        text-align: right;\n",
       "    }\n",
       "</style>\n",
       "<table border=\"1\" class=\"dataframe\">\n",
       "  <thead>\n",
       "    <tr style=\"text-align: right;\">\n",
       "      <th></th>\n",
       "      <th>total_bill</th>\n",
       "      <th>tip</th>\n",
       "      <th>sex</th>\n",
       "      <th>smoker</th>\n",
       "      <th>day</th>\n",
       "      <th>time</th>\n",
       "      <th>size</th>\n",
       "    </tr>\n",
       "  </thead>\n",
       "  <tbody>\n",
       "    <tr>\n",
       "      <th>0</th>\n",
       "      <td>16.99</td>\n",
       "      <td>1.01</td>\n",
       "      <td>Female</td>\n",
       "      <td>No</td>\n",
       "      <td>Sun</td>\n",
       "      <td>Dinner</td>\n",
       "      <td>2</td>\n",
       "    </tr>\n",
       "    <tr>\n",
       "      <th>1</th>\n",
       "      <td>10.34</td>\n",
       "      <td>1.66</td>\n",
       "      <td>Male</td>\n",
       "      <td>No</td>\n",
       "      <td>Sun</td>\n",
       "      <td>Dinner</td>\n",
       "      <td>3</td>\n",
       "    </tr>\n",
       "    <tr>\n",
       "      <th>2</th>\n",
       "      <td>21.01</td>\n",
       "      <td>3.50</td>\n",
       "      <td>Male</td>\n",
       "      <td>No</td>\n",
       "      <td>Sun</td>\n",
       "      <td>Dinner</td>\n",
       "      <td>3</td>\n",
       "    </tr>\n",
       "  </tbody>\n",
       "</table>\n",
       "</div>"
      ],
      "text/plain": [
       "   total_bill   tip     sex smoker  day    time  size\n",
       "0       16.99  1.01  Female     No  Sun  Dinner     2\n",
       "1       10.34  1.66    Male     No  Sun  Dinner     3\n",
       "2       21.01  3.50    Male     No  Sun  Dinner     3"
      ]
     },
     "execution_count": 41,
     "metadata": {},
     "output_type": "execute_result"
    }
   ],
   "source": [
    "tips_df.head(3)"
   ]
  },
  {
   "cell_type": "code",
   "execution_count": 42,
   "id": "1b70aa15-0346-43f6-9079-6c1c0cd7b97e",
   "metadata": {},
   "outputs": [
    {
     "name": "stdout",
     "output_type": "stream",
     "text": [
      "<class 'pandas.core.frame.DataFrame'>\n",
      "RangeIndex: 244 entries, 0 to 243\n",
      "Data columns (total 7 columns):\n",
      " #   Column      Non-Null Count  Dtype  \n",
      "---  ------      --------------  -----  \n",
      " 0   total_bill  244 non-null    float64\n",
      " 1   tip         244 non-null    float64\n",
      " 2   sex         244 non-null    object \n",
      " 3   smoker      244 non-null    object \n",
      " 4   day         244 non-null    object \n",
      " 5   time        244 non-null    object \n",
      " 6   size        244 non-null    int64  \n",
      "dtypes: float64(2), int64(1), object(4)\n",
      "memory usage: 13.5+ KB\n"
     ]
    }
   ],
   "source": [
    "tips_df.info()"
   ]
  },
  {
   "cell_type": "code",
   "execution_count": 43,
   "id": "56e240eb-623f-4bc2-a301-02a9bca9ad74",
   "metadata": {},
   "outputs": [
    {
     "data": {
      "text/html": [
       "<div>\n",
       "<style scoped>\n",
       "    .dataframe tbody tr th:only-of-type {\n",
       "        vertical-align: middle;\n",
       "    }\n",
       "\n",
       "    .dataframe tbody tr th {\n",
       "        vertical-align: top;\n",
       "    }\n",
       "\n",
       "    .dataframe thead th {\n",
       "        text-align: right;\n",
       "    }\n",
       "</style>\n",
       "<table border=\"1\" class=\"dataframe\">\n",
       "  <thead>\n",
       "    <tr style=\"text-align: right;\">\n",
       "      <th></th>\n",
       "      <th>total_bill</th>\n",
       "      <th>tip</th>\n",
       "      <th>size</th>\n",
       "    </tr>\n",
       "  </thead>\n",
       "  <tbody>\n",
       "    <tr>\n",
       "      <th>total_bill</th>\n",
       "      <td>1.000000</td>\n",
       "      <td>0.675734</td>\n",
       "      <td>0.598315</td>\n",
       "    </tr>\n",
       "    <tr>\n",
       "      <th>tip</th>\n",
       "      <td>0.675734</td>\n",
       "      <td>1.000000</td>\n",
       "      <td>0.489299</td>\n",
       "    </tr>\n",
       "    <tr>\n",
       "      <th>size</th>\n",
       "      <td>0.598315</td>\n",
       "      <td>0.489299</td>\n",
       "      <td>1.000000</td>\n",
       "    </tr>\n",
       "  </tbody>\n",
       "</table>\n",
       "</div>"
      ],
      "text/plain": [
       "            total_bill       tip      size\n",
       "total_bill    1.000000  0.675734  0.598315\n",
       "tip           0.675734  1.000000  0.489299\n",
       "size          0.598315  0.489299  1.000000"
      ]
     },
     "execution_count": 43,
     "metadata": {},
     "output_type": "execute_result"
    }
   ],
   "source": [
    "tips_corr = tips_df.select_dtypes(['float64', 'int64']).corr()\n",
    "tips_corr\n",
    "# Find correlation here all of them value between 0 to 1"
   ]
  },
  {
   "cell_type": "code",
   "execution_count": 44,
   "id": "1206803a-ef01-466c-8e2e-c9c447193eb5",
   "metadata": {},
   "outputs": [
    {
     "data": {
      "text/html": [
       "<div>\n",
       "<style scoped>\n",
       "    .dataframe tbody tr th:only-of-type {\n",
       "        vertical-align: middle;\n",
       "    }\n",
       "\n",
       "    .dataframe tbody tr th {\n",
       "        vertical-align: top;\n",
       "    }\n",
       "\n",
       "    .dataframe thead th {\n",
       "        text-align: right;\n",
       "    }\n",
       "</style>\n",
       "<table border=\"1\" class=\"dataframe\">\n",
       "  <thead>\n",
       "    <tr style=\"text-align: right;\">\n",
       "      <th></th>\n",
       "      <th>total_bill</th>\n",
       "      <th>tip</th>\n",
       "      <th>size</th>\n",
       "    </tr>\n",
       "  </thead>\n",
       "  <tbody>\n",
       "    <tr>\n",
       "      <th>total_bill</th>\n",
       "      <td>79.252939</td>\n",
       "      <td>8.323502</td>\n",
       "      <td>5.065983</td>\n",
       "    </tr>\n",
       "    <tr>\n",
       "      <th>tip</th>\n",
       "      <td>8.323502</td>\n",
       "      <td>1.914455</td>\n",
       "      <td>0.643906</td>\n",
       "    </tr>\n",
       "    <tr>\n",
       "      <th>size</th>\n",
       "      <td>5.065983</td>\n",
       "      <td>0.643906</td>\n",
       "      <td>0.904591</td>\n",
       "    </tr>\n",
       "  </tbody>\n",
       "</table>\n",
       "</div>"
      ],
      "text/plain": [
       "            total_bill       tip      size\n",
       "total_bill   79.252939  8.323502  5.065983\n",
       "tip           8.323502  1.914455  0.643906\n",
       "size          5.065983  0.643906  0.904591"
      ]
     },
     "execution_count": 44,
     "metadata": {},
     "output_type": "execute_result"
    }
   ],
   "source": [
    "tips_cov = tips_df.select_dtypes(['float64', 'int64']).cov()\n",
    "tips_cov\n",
    "# Find Covariance of data range infinity"
   ]
  },
  {
   "cell_type": "code",
   "execution_count": 45,
   "id": "d3113d95-fa74-4a22-ac12-10157fb40ff8",
   "metadata": {},
   "outputs": [
    {
     "data": {
      "image/png": "[encoded data removed]",
      "text/plain": [
       "<Figure size 400x300 with 2 Axes>"
      ]
     },
     "metadata": {},
     "output_type": "display_data"
    }
   ],
   "source": [
    "# Correlation of tips_corr Heatmap\n",
    "plt.figure(figsize=(4, 3))\n",
    "sns.heatmap(tips_corr, annot=True)\n",
    "plt.show()"
   ]
  },
  {
   "cell_type": "code",
   "execution_count": 46,
   "id": "e3dd3d42-9460-43f2-85da-d4c6f5e63416",
   "metadata": {},
   "outputs": [
    {
     "data": {
      "image/png": "[encoded data removed]",
      "text/plain": [
       "<Figure size 400x300 with 2 Axes>"
      ]
     },
     "metadata": {},
     "output_type": "display_data"
    }
   ],
   "source": [
    "# Covariation of tips_corr Heatmap\n",
    "plt.figure(figsize=(4, 3))\n",
    "sns.heatmap(tips_cov, annot=True)\n",
    "plt.show()"
   ]
  },
  {
   "cell_type": "markdown",
   "id": "a4217457-5fce-47da-aead-d1de66960c73",
   "metadata": {},
   "source": [
    "## Central Limit Theorem (CLT)"
   ]
  },
  {
   "cell_type": "code",
   "execution_count": 47,
   "id": "486c83b9-056b-4cdf-9aaa-11789248d1a9",
   "metadata": {},
   "outputs": [],
   "source": [
    "# Centeral limit theorem is known as cut population data into sample data and find mean both are almost same\n",
    "# Condition:\n",
    "# 1. We must need to choose data Randomaly not contiously\n",
    "# 2. Sample data is no more than 10%\n",
    "# 3. we must need to select more than 30 record"
   ]
  },
  {
   "cell_type": "code",
   "execution_count": 48,
   "id": "80f50dfe-a46b-4150-b5c2-75655baf5d98",
   "metadata": {},
   "outputs": [
    {
     "data": {
      "image/png": "[encoded data removed]",
      "text/plain": [
       "<Figure size 500x300 with 1 Axes>"
      ]
     },
     "metadata": {},
     "output_type": "display_data"
    }
   ],
   "source": [
    "# Let's create Synthetic Data\n",
    "pop_data = np.random.randint(10, 100, size=10000)\n",
    "\n",
    "pop_table = pd.DataFrame({'pop_data':pop_data})\n",
    "\n",
    "plt.figure(figsize=(5, 3))\n",
    "sns.kdeplot(pop_table)\n",
    "plt.show()"
   ]
  },
  {
   "cell_type": "code",
   "execution_count": 49,
   "id": "526fa2a7-ede1-4282-ae4f-386ef43b6e97",
   "metadata": {},
   "outputs": [
    {
     "name": "stdout",
     "output_type": "stream",
     "text": [
      "[76 55 70 ... 67 26 78]\n"
     ]
    }
   ],
   "source": [
    "print(pop_data)"
   ]
  },
  {
   "cell_type": "code",
   "execution_count": 50,
   "id": "9999681b-d6e0-4545-b85d-ee69edd7f004",
   "metadata": {},
   "outputs": [
    {
     "name": "stdout",
     "output_type": "stream",
     "text": [
      "[np.float64(53.508), np.float64(53.222), np.float64(56.698), np.float64(51.554), np.float64(53.192), np.float64(54.12), np.float64(52.774), np.float64(56.024), np.float64(55.326), np.float64(56.566), np.float64(54.718), np.float64(52.552), np.float64(53.156), np.float64(53.472), np.float64(55.848), np.float64(56.912), np.float64(53.858), np.float64(52.122), np.float64(53.69), np.float64(54.6), np.float64(54.436), np.float64(52.99), np.float64(54.236), np.float64(56.504), np.float64(54.67), np.float64(53.928), np.float64(53.134), np.float64(55.048), np.float64(54.926), np.float64(53.012), np.float64(55.676), np.float64(56.872), np.float64(54.43), np.float64(55.79), np.float64(56.326), np.float64(54.536), np.float64(54.554), np.float64(55.278), np.float64(57.47), np.float64(55.432), np.float64(56.064), np.float64(55.46), np.float64(55.744), np.float64(55.184), np.float64(54.912), np.float64(54.372), np.float64(55.856), np.float64(54.532), np.float64(54.752), np.float64(55.674), np.float64(55.188), np.float64(56.006), np.float64(55.864), np.float64(53.712), np.float64(55.166), np.float64(55.108), np.float64(55.048), np.float64(52.768), np.float64(54.954), np.float64(55.4), np.float64(54.188), np.float64(54.768), np.float64(54.93), np.float64(55.608), np.float64(53.792), np.float64(54.144), np.float64(54.926), np.float64(55.086), np.float64(56.304), np.float64(54.444), np.float64(55.548), np.float64(52.782), np.float64(52.634), np.float64(54.818), np.float64(58.304), np.float64(53.878), np.float64(54.992), np.float64(56.032), np.float64(53.68), np.float64(53.938), np.float64(55.878), np.float64(55.52), np.float64(53.14), np.float64(54.744), np.float64(55.112), np.float64(53.97), np.float64(51.876), np.float64(56.378), np.float64(53.928), np.float64(55.738), np.float64(55.616), np.float64(53.82), np.float64(55.8), np.float64(56.942), np.float64(55.442), np.float64(55.918), np.float64(55.326), np.float64(54.444), np.float64(55.64), np.float64(56.196)]\n",
      "54.8213\n",
      "54.81148000000001\n"
     ]
    }
   ],
   "source": [
    "Sample_M = []\n",
    "for i in range(100):\n",
    "    Sample_test = []\n",
    "    for j in range(500):\n",
    "        Sample_test.append(np.random.choice(pop_data))\n",
    "    Sample_M.append(np.mean(Sample_test))\n",
    "print(Sample_M)\n",
    "print(np.mean(pop_table))\n",
    "print(np.mean(Sample_M))"
   ]
  },
  {
   "cell_type": "code",
   "execution_count": 51,
   "id": "c1b33dc3-ae0d-421e-b6e3-daf742809ff5",
   "metadata": {},
   "outputs": [
    {
     "data": {
      "image/png": "[encoded data removed]",
      "text/plain": [
       "<Figure size 700x300 with 1 Axes>"
      ]
     },
     "metadata": {},
     "output_type": "display_data"
    }
   ],
   "source": [
    "plt.figure(figsize=(7, 3))\n",
    "sns.kdeplot(Sample_M)\n",
    "plt.show()"
   ]
  },
  {
   "cell_type": "markdown",
   "id": "b9c7932f-d52e-4836-9902-989d42e9d86b",
   "metadata": {},
   "source": [
    "## Hypothesis Testing"
   ]
  },
  {
   "cell_type": "code",
   "execution_count": 52,
   "id": "ed8ca0b9-6efe-437e-9b01-fa4b00e17905",
   "metadata": {},
   "outputs": [],
   "source": [
    "# There are two Terminology used in Hypotesis Testing:\n",
    "# 1. Null Hypothesis: It's a Stastical Theory that Sudggests there is no stastical significance exists between two population. \n",
    "#                it's value is 0. also known as 'H0', most sign used: =, >=, <=\n",
    "# 2. Alternative Hypothesis: it's sudgest there is a s ignificance difference between the Population Parameters. \n",
    "#                it's also known as (H1), most sign used: !=, <, >\n",
    "\n",
    "# there is mainly three way to find:\n",
    "# 1. Z-Test\n",
    "# 2. T-Test\n",
    "# 3. Chi Square Test"
   ]
  },
  {
   "cell_type": "markdown",
   "id": "8fa3da91-7574-4096-acc6-ef3f7876c7ed",
   "metadata": {},
   "source": [
    "### Step of Hypothesis Testing:"
   ]
  },
  {
   "cell_type": "code",
   "execution_count": 53,
   "id": "f6f9bd65-5557-4cc1-af73-2256bc903a3b",
   "metadata": {},
   "outputs": [],
   "source": [
    "# State null(H0) and alternative(H1) hypothesis\n",
    "# Choose level of significance(a)\n",
    "# Find critical values\n",
    "# Find test statistic\n",
    "# Draw your conclusion"
   ]
  },
  {
   "cell_type": "code",
   "execution_count": 54,
   "id": "4a23e3d2-41bc-4ab1-96fa-b463cdd16a2f",
   "metadata": {},
   "outputs": [],
   "source": [
    "# Population vs Sample Symbols in Statistics\n",
    "\n",
    "# Population (all data)\n",
    "# μ    -> population mean (average of all data)\n",
    "# σ    -> population standard deviation (spread of all data)\n",
    "# N    -> population size (total number of items in population)\n",
    "\n",
    "# Sample (subset of population)\n",
    "# x̄    -> sample mean (average of the sample)\n",
    "# s     -> sample standard deviation (spread of the sample)\n",
    "# n     -> sample size (number of items in the sample)"
   ]
  },
  {
   "cell_type": "markdown",
   "id": "9c0ee451-a3c2-42a0-ae76-688fa129c719",
   "metadata": {},
   "source": [
    "# 📝 Z-Test Formulas for Quick Revision\n",
    "\n",
    "---\n",
    "\n",
    "## 1. One-Sample Z-Test\n",
    "**Use:** Compare the **mean of a single sample** to a **known population mean** when the **population standard deviation (σ)** is known.\n",
    "\n",
    "**Variables:**\n",
    "$$\n",
    "\\begin{aligned}\n",
    "\\bar{x} & : \\text{Sample mean (average of your sample)} \\\\\n",
    "\\mu & : \\text{Population mean (hypothesized value)} \\\\\n",
    "\\sigma & : \\text{Population standard deviation} \\\\\n",
    "n & : \\text{Sample size} \\\\\n",
    "\\end{aligned}\n",
    "$$\n",
    "\n",
    "**Formula:**\n",
    "$$\n",
    "Z = \\frac{\\bar{x} - \\mu}{\\sigma / \\sqrt{n}}\n",
    "$$\n",
    "\n",
    "**Decision Rule:**  \n",
    "- **Right-tailed test:** Reject \\(H_0\\) if \\(Z > Z_\\text{critical}\\)  \n",
    "- **Left-tailed test:** Reject \\(H_0\\) if \\(Z < Z_\\text{critical}\\)  \n",
    "- **Two-tailed test:** Reject \\(H_0\\) if \\(|Z| > Z_\\text{critical}\\)\n",
    "\n",
    "---\n",
    "\n",
    "## 2. Two-Sample Z-Test (Independent Samples)\n",
    "**Use:** Compare the **means of two independent samples** when the **population standard deviations are known**.\n",
    "\n",
    "**Variables:**\n",
    "$$\n",
    "\\begin{aligned}\n",
    "\\bar{x}_1, \\bar{x}_2 & : \\text{Sample means of group 1 and group 2} \\\\\n",
    "\\mu_1, \\mu_2 & : \\text{Population means (hypothesized)} \\\\\n",
    "\\sigma_1, \\sigma_2 & : \\text{Population standard deviations} \\\\\n",
    "n_1, n_2 & : \\text{Sample sizes} \\\\\n",
    "\\end{aligned}\n",
    "$$\n",
    "\n",
    "**Formula:**\n",
    "$$ Z = \\frac{(\\bar{x}_1 - \\bar{x}_2) - (\\mu_1 - \\mu_2)}{\\sqrt{\\frac{\\sigma_1^2}{n_1} + \\frac{\\sigma_2^2}{n_2}}} $$\n",
    "\n",
    "**Decision Rule:**  \n",
    "- **Right-tailed test:** Reject \\(H_0\\) if \\(Z > Z_\\text{critical}\\)  \n",
    "- **Left-tailed test:** Reject \\(H_0\\) if \\(Z < Z_\\text{critical}\\)  \n",
    "- **Two-tailed test:** Reject \\(H_0\\) if \\(|Z| > Z_\\text{critical}\\)\n",
    "\n",
    "---\n",
    "\n",
    "## ✅ Quick Tips\n",
    "1. Use **one-sample Z-test** for a single sample vs population mean.  \n",
    "2. Use **two-sample Z-test** for comparing **two independent sample means**.  \n",
    "3. **Right-tailed test:** Check if mean is significantly **greater**.  \n",
    "4. **Left-tailed test:** Check if mean is significantly **smaller**.  \n",
    "5. **Two-tailed test:** Check for **any significant difference**.  \n"
   ]
  },
  {
   "cell_type": "code",
   "execution_count": 55,
   "id": "acf93a4c-819c-4696-82ef-12c7b95b82d8",
   "metadata": {},
   "outputs": [],
   "source": [
    "# In This algo:\n",
    "# x̄ = Sample Mean\n",
    "# μ = Population Mean\n",
    "# σ = Population standard Deviasion\n",
    "# n = Number of Sample data"
   ]
  },
  {
   "cell_type": "code",
   "execution_count": 56,
   "id": "b8a4a29d-97fe-4389-96ae-976c12535713",
   "metadata": {},
   "outputs": [
    {
     "name": "stdout",
     "output_type": "stream",
     "text": [
      "Calculated Z value: 3.5999999999999996\n",
      "Critical Z value: 1.6448536269514722\n",
      "Reject H0: Mean score is significantly greater than 82\n"
     ]
    }
   ],
   "source": [
    "import scipy.stats as st\n",
    "\n",
    "# Given values\n",
    "s_x = 90      # sample mean (x̄)\n",
    "p_u = 82      # population mean (μ)\n",
    "p_std = 20    # population standard deviation (σ)\n",
    "n = 81        # sample size\n",
    "\n",
    "# Step 1: Calculate Z-test statistic\n",
    "z_cal = (s_x - p_u) / (p_std / np.sqrt(n))\n",
    "print(\"Calculated Z value:\", z_cal)\n",
    "\n",
    "# Step 2: Critical Z value for one-tailed test at alpha=0.05\n",
    "alpha = 0.05\n",
    "z_critical = st.norm.ppf(1 - alpha)   # 1.645\n",
    "print(\"Critical Z value:\", z_critical)\n",
    "\n",
    "# Step 3: Decision rule\n",
    "if z_cal > z_critical:\n",
    "    print(\"Reject H0: Mean score is significantly greater than 82\")\n",
    "else:\n",
    "    print(\"Fail to reject H0: Not enough evidence that mean score is greater than 82\")"
   ]
  },
  {
   "cell_type": "markdown",
   "id": "096c993e-e71b-466e-9c08-1890bfb13430",
   "metadata": {},
   "source": [
    "# 📝 T-Test Formulas for Quick Revision\n",
    "\n",
    "---\n",
    "\n",
    "## 1. One-Sample T-Test\n",
    "**Use:** Compare the **mean of a single sample** with a **known population mean** when the **population standard deviation is unknown**.\n",
    "\n",
    "**Variables:**\n",
    "$$\n",
    "\\begin{aligned}\n",
    "\\bar{x} & : \\text{Sample mean (average of your sample)} \\\\\n",
    "\\mu & : \\text{Population mean (hypothesized)} \\\\\n",
    "s & : \\text{Sample standard deviation} \\\\\n",
    "n & : \\text{Sample size} \\\\\n",
    "\\end{aligned}\n",
    "$$\n",
    "\n",
    "**Formula:**\n",
    "$$\n",
    "t = \\frac{\\bar{x} - \\mu}{s / \\sqrt{n}}\n",
    "$$\n",
    "\n",
    "**Decision Rule:**  \n",
    "- Right-tailed: Reject \\(H_0\\) if \\(t > t_\\text{critical}\\)  \n",
    "- Left-tailed: Reject \\(H_0\\) if \\(t < t_\\text{critical}\\)  \n",
    "- Two-tailed: Reject \\(H_0\\) if \\(|t| > t_\\text{critical}\\)\n",
    "\n",
    "---\n",
    "\n",
    "## 2. Paired T-Test\n",
    "**Use:** Compare means of **two related/dependent samples**, e.g., **before-after measurements**.\n",
    "\n",
    "**Variables:**\n",
    "$$\n",
    "\\begin{aligned}\n",
    "d_i & : \\text{Difference between paired observations} \\\\\n",
    "\\bar{d} & : \\text{Mean of the differences} \\\\\n",
    "s_d & : \\text{Standard deviation of differences} \\\\\n",
    "n & : \\text{Number of pairs} \\\\\n",
    "\\end{aligned}\n",
    "$$\n",
    "\n",
    "**Formula:**\n",
    "$$\n",
    "t = \\frac{\\bar{d}}{s_d / \\sqrt{n}}\n",
    "$$\n",
    "\n",
    "**Decision Rule:**  \n",
    "- Right-tailed: Reject \\(H_0\\) if \\(t > t_\\text{critical}\\)  \n",
    "- Left-tailed: Reject \\(H_0\\) if \\(t < t_\\text{critical}\\)  \n",
    "- Two-tailed: Reject \\(H_0\\) if \\(|t| > t_\\text{critical}\\)\n",
    "\n",
    "---\n",
    "\n",
    "## 3. Independent Two-Sample T-Test (Equal Variances)\n",
    "**Use:** Compare means of **two independent samples** assuming **equal population variances**.\n",
    "\n",
    "**Variables:**\n",
    "$$\n",
    "\\begin{aligned}\n",
    "\\bar{x}_1, \\bar{x}_2 & : \\text{Sample means of group 1 and 2} \\\\\n",
    "s_1, s_2 & : \\text{Sample standard deviations} \\\\\n",
    "n_1, n_2 & : \\text{Sample sizes} \\\\\n",
    "s_p & : \\text{Pooled standard deviation} \\\\\n",
    "\\end{aligned}\n",
    "$$\n",
    "\n",
    "**Pooled Standard Deviation:**\n",
    "$$\n",
    "s_p = \\sqrt{\\frac{(n_1-1)s_1^2 + (n_2-1)s_2^2}{n_1+n_2-2}}\n",
    "$$\n",
    "\n",
    "**Formula:**\n",
    "$$\n",
    "t = \\frac{\\bar{x}_1 - \\bar{x}_2}{s_p \\sqrt{\\frac{1}{n_1} + \\frac{1}{n_2}}}\n",
    "$$\n",
    "\n",
    "**Decision Rule:**  \n",
    "- Two-tailed: Reject \\(H_0\\) if \\(|t| > t_\\text{critical}\\)\n",
    "\n",
    "---\n",
    "\n",
    "## 4. Independent Two-Sample T-Test (Unequal Variances / Welch’s)\n",
    "**Use:** Compare means of **two independent samples** without assuming equal population variances.\n",
    "\n",
    "**Variables:**\n",
    "$$\n",
    "\\begin{aligned}\n",
    "\\bar{x}_1, \\bar{x}_2 & : \\text{Sample means} \\\\\n",
    "s_1, s_2 & : \\text{Sample standard deviations} \\\\\n",
    "n_1, n_2 & : \\text{Sample sizes} \\\\\n",
    "\\end{aligned}\n",
    "$$\n",
    "\n",
    "**Formula:**\n",
    "$$\n",
    "t = \\frac{\\bar{x}_1 - \\bar{x}_2}{\\sqrt{\\frac{s_1^2}{n_1} + \\frac{s_2^2}{n_2}}}\n",
    "$$\n",
    "\n",
    "**Degrees of Freedom (Welch-Satterthwaite):**\n",
    "$$\n",
    "df = \\frac{ \\left( \\frac{s_1^2}{n_1} + \\frac{s_2^2}{n_2} \\right)^2 }\n",
    "          { \\frac{(s_1^2 / n_1)^2}{n_1 - 1} + \\frac{(s_2^2 / n_2)^2}{n_2 - 1} }\n",
    "$$\n",
    "\n",
    "**Decision Rule:**  \n",
    "- Two-tailed: Reject \\(H_0\\) if \\(|t| > t_\\text{critical}\\)\n",
    "\n",
    "---\n",
    "\n",
    "## ✅ Quick Tips\n",
    "1. **One-sample t-test:** Compare sample mean with population mean.  \n",
    "2. **Paired t-test:** Use for related samples (before-after).  \n",
    "3. **Two independent samples:**  \n",
    "   - Equal variances → pooled t-test  \n",
    "   - Unequal variances → Welch’s t-test  \n",
    "4. **Right-tailed:** Check if mean is significantly **greater**.  \n",
    "5. **Left-tailed:** Check if mean is significantly **smaller**.  \n",
    "6. **Two-tailed:** Check for **any significant difference**.  \n"
   ]
  },
  {
   "cell_type": "code",
   "execution_count": 57,
   "id": "8ac96df4-b0fd-46a3-b121-3640c7b735e2",
   "metadata": {},
   "outputs": [],
   "source": [
    "# in this algo\n",
    "# x̄ = Sample Mean\n",
    "# μ = Population Mean\n",
    "# s = Sample Standard Div..\n",
    "# n = Number of Sample data\n",
    "# note: Data must less than '<' 30"
   ]
  },
  {
   "cell_type": "code",
   "execution_count": 58,
   "id": "ce5c2667-02d9-437e-b094-5da54c56df94",
   "metadata": {},
   "outputs": [
    {
     "name": "stdout",
     "output_type": "stream",
     "text": [
      "Calculated t value: -2.0\n",
      "Critical t value at 5% significance: -1.7108820799094282\n",
      "Reject H0: The mean weight is significantly less than 150 grams\n"
     ]
    }
   ],
   "source": [
    "import scipy.stats as st\n",
    "\n",
    "# Given values\n",
    "s_x = 148     # sample mean (x̄)\n",
    "p_u = 150     # population mean (μ)\n",
    "s = 5         # sample standard deviation (s)\n",
    "n = 25        # sample size\n",
    "\n",
    "# Step 1: Calculate t-test statistic\n",
    "t_cal = (s_x - p_u) / (s / np.sqrt(n))\n",
    "print(\"Calculated t value:\", t_cal)\n",
    "\n",
    "# Step 2: Critical t value for one-tailed test at 0.05 significance\n",
    "alpha = 0.05\n",
    "df = n - 1  # degrees of freedom\n",
    "t_critical = st.t.ppf(alpha, df)  # left-tailed test\n",
    "print(\"Critical t value at 5% significance:\", t_critical)\n",
    "\n",
    "# Step 3: Conclusion\n",
    "if t_cal < t_critical:\n",
    "    print(\"Reject H0: The mean weight is significantly less than 150 grams\")\n",
    "else:\n",
    "    print(\"Fail to reject H0: Not enough evidence that mean weight is less than 150 grams\")"
   ]
  },
  {
   "cell_type": "code",
   "execution_count": 59,
   "id": "bf992806-c007-4afc-9941-d848d33f7dc1",
   "metadata": {},
   "outputs": [],
   "source": [
    "# A company wants to test whether there is a difference in productivity between two teams, Team A and Team \n",
    "# B.\n",
    "# They randomly select 20 employees from each team and record their productivity scores.\n",
    "# Team A has a mean productivity score of 80 with a standard deviation of 5.\n",
    "# Team B has a mean productivity score of 75 with a standard deviation of 6.\n",
    "# At a 5% level of significance, test whether there is a significant difference in productivity between the two teams."
   ]
  },
  {
   "cell_type": "code",
   "execution_count": 60,
   "id": "a3385566-704a-40a9-a4fb-55272bc7694e",
   "metadata": {},
   "outputs": [
    {
     "name": "stdout",
     "output_type": "stream",
     "text": [
      "T-Statistic: 2.862991671569341\n",
      "Degrees of Freedom: 36.80322748568453\n",
      "Critical t-value (two-tailed): ± 2.0265582009376586\n",
      "Reject null hypothesis: There is a significant difference between the teams.\n"
     ]
    }
   ],
   "source": [
    "# Step 1: Given data\n",
    "mean_a = 80\n",
    "std_a = 5\n",
    "n_a = 20\n",
    "\n",
    "mean_b = 75\n",
    "std_b = 6\n",
    "n_b = 20\n",
    "\n",
    "alpha = 0.05  # significance level\n",
    "\n",
    "# Step 2: Calculate t-statistic\n",
    "t_stat = (mean_a - mean_b) / np.sqrt((std_a**2/n_a) + (std_b**2/n_b))\n",
    "print(\"T-Statistic:\", t_stat)\n",
    "\n",
    "# Step 3: Calculate degrees of freedom using Welch-Satterthwaite formula\n",
    "df = ((std_a**2/n_a + std_b**2/n_b)**2) / (((std_a**2/n_a)**2)/(n_a-1) + ((std_b**2/n_b)**2)/(n_b-1))\n",
    "print(\"Degrees of Freedom:\", df)\n",
    "\n",
    "# Step 4: Find critical t-value for two-tailed test\n",
    "t_critical = st.t.ppf(1 - alpha/2, df)\n",
    "print(\"Critical t-value (two-tailed): ±\", t_critical)\n",
    "\n",
    "# Step 5: Decision\n",
    "if abs(t_stat) > t_critical:\n",
    "    print(\"Reject null hypothesis: There is a significant difference between the teams.\")\n",
    "else:\n",
    "    print(\"Fail to reject null hypothesis: No significant difference between the teams.\")"
   ]
  },
  {
   "cell_type": "code",
   "execution_count": 61,
   "id": "b0254e40-d282-4b29-861e-b24388e7f3e0",
   "metadata": {},
   "outputs": [],
   "source": [
    "# A company wants to test whether a new training program improves the typing speed of its employees.\n",
    "# The typing speed of 20 employees was recordd before and after the training program the data is given below.\n",
    "# test at a 5% level of significance whether the training program has an effect on the typing speed of the employees.\n",
    "# before= [50, 60, 45, 65, 55, 70, 40, 75, 80, 65, 70, 60, 50, 55, 45, 75, 60, 50, 65, 70]\n",
    "# after = [55, 65, 50, 70, 60, 75, 45, 80, 85, 70, 75, 65, 55, 60, 50, 80, 65, 55, 70, 75]"
   ]
  },
  {
   "cell_type": "code",
   "execution_count": 62,
   "id": "0681b8ec-7d1f-4ed7-a443-7605c0107df8",
   "metadata": {},
   "outputs": [
    {
     "name": "stdout",
     "output_type": "stream",
     "text": [
      "Independent t-statistic: 2.061200527128206\n"
     ]
    }
   ],
   "source": [
    "# H0: There is no effect (mean difference = 0).\n",
    "# H1: There is an effect (mean difference ≠ 0).\n",
    "\n",
    "Before = np.array([50, 60, 45, 65, 55, 70, 40, 75, 80, 65, 70, 60, 50, 55, 45, 75, 60, 50, 65, 70])\n",
    "After  = np.array([60, 70, 55, 75, 65, 80, 50, 85, 90, 70, 75, 65, 55, 60, 50, 80, 65, 55, 70, 75])\n",
    "\n",
    "std_a = np.std(After)\n",
    "std_b = np.std(Before)\n",
    "\n",
    "mean_a = np.mean(After)\n",
    "mean_b = np.mean(Before)\n",
    "\n",
    "t_cal = (mean_a - mean_b) / np.sqrt((std_a**2)/len(After) + (std_b**2)/len(Before))\n",
    "print(\"Independent t-statistic:\", t_cal)"
   ]
  },
  {
   "cell_type": "markdown",
   "id": "2dd0ac0d-d5b0-4a2f-933d-822707dfda5d",
   "metadata": {},
   "source": [
    "# Chi-Square Test (χ² Test)\n",
    "\n",
    "The **Chi-Square test** is used to check whether there is a significant difference between **observed frequencies** and **expected frequencies**.\n",
    "\n",
    "---\n",
    "\n",
    "## Formula:\n",
    "\n",
    "$$\n",
    "\\chi^2 = \\sum \\frac{(O_i - E_i)^2}{E_i}\n",
    "$$\n",
    "\n",
    "Where:  \n",
    "- \\( O_i \\) = Observed frequency (actual data collected)  \n",
    "- \\( E_i \\) = Expected frequency (theoretical values if \\( H_0 \\) is true)  \n",
    "- \\( \\chi^2 \\) = Chi-square statistic  \n",
    "\n",
    "---\n",
    "\n",
    "## Steps:\n",
    "\n",
    "1. **Set hypotheses**  \n",
    "   - \\( H_0: \\) There is **no significant difference** between observed and expected frequencies.  \n",
    "   - \\( H_1: \\) There **is a significant difference**.  \n",
    "\n",
    "2. **Find observed frequencies (\\(O_i\\))** → given in problem.  \n",
    "\n",
    "3. **Find expected frequencies (\\(E_i\\))**  \n",
    "\n",
    "   - For simple categories:  \n",
    "     $$\n",
    "     E_i = N \\cdot p_i\n",
    "     $$  \n",
    "     where \\( N \\) = total sample size, \\( p_i \\) = probability of category under \\( H_0 \\).  \n",
    "\n",
    "   - For contingency table:  \n",
    "     $$\n",
    "     E_{ij} = \\frac{(\\text{Row total}) \\times (\\text{Column total})}{\\text{Grand total}}\n",
    "     $$  \n",
    "\n",
    "4. **Compute test statistic**  \n",
    "   $$\n",
    "   \\chi^2 = \\sum \\frac{(O_i - E_i)^2}{E_i}\n",
    "   $$  \n",
    "\n",
    "5. **Degrees of freedom (df):**  \n",
    "\n",
    "   - For simple distribution:  \n",
    "     $$\n",
    "     df = (k - 1)\n",
    "     $$\n",
    "     where \\( k \\) = number of categories.  \n",
    "\n",
    "   - For contingency table:  \n",
    "     $$\n",
    "     df = (r - 1)(c - 1)\n",
    "     $$\n",
    "     where \\( r \\) = number of rows, \\( c \\) = number of columns.  \n",
    "\n",
    "6. **Decision Rule:**  \n",
    "   - If  \n",
    "     $$\n",
    "     \\chi^2_{calculated} > \\chi^2_{critical}\n",
    "     $$  \n",
    "     → Reject \\( H_0 \\).  \n",
    "   - Otherwise, Fail to reject \\( H_0 \\).  \n",
    "\n",
    "---\n",
    "\n",
    "## Key to Remember:\n",
    "- \\( O \\) = Observed (actual data you collected)  \n",
    "- \\( E \\) = Expected (what you should get if \\( H_0 \\) is true)  \n",
    "- Formula is always: **difference squared / expected**, then sum.  \n",
    "- Degrees of freedom = categories - 1 (or row-1 × col-1 for tables).  \n"
   ]
  },
  {
   "cell_type": "code",
   "execution_count": 63,
   "id": "fe504c00-c60e-4afa-8ae3-4a31a5524cc4",
   "metadata": {},
   "outputs": [],
   "source": [
    "# A fair die is rolled 120 times and the follwing results are obtained:\n",
    "# face 1: 22 times\n",
    "# face 2: 17 times\n",
    "# face 3: 20 times\n",
    "# face 4: 26 times\n",
    "# face 5: 22 times\n",
    "# face 6: 13 times\n",
    "# Test at a 5% level of significance whether the die is fair"
   ]
  },
  {
   "cell_type": "code",
   "execution_count": 64,
   "id": "615a2a3a-5b82-4799-a97a-a7d9079ccec8",
   "metadata": {},
   "outputs": [],
   "source": [
    "# h0: Die is fair\n",
    "# h1: Die is higher\n",
    "\n",
    "ob = np.array([22, 17, 20, 26, 22, 13]) # Obtain\n",
    "ex = np.array([20, 20, 20, 20, 20, 20]) # Expected 120/6\n",
    "\n",
    "chi = np.sum(np.square(ob-ex)/ex)\n",
    "\n",
    "df = 5\n",
    "t_table = 11.7\n",
    "alpha = 0.05"
   ]
  },
  {
   "cell_type": "code",
   "execution_count": 65,
   "id": "b1d3516c-cd60-4f3c-b7c3-56da07708607",
   "metadata": {},
   "outputs": [],
   "source": [
    "# A study was conducted to investigate whether there is a relationship between gender and the perferred genre of music.\n",
    "# A sample of 235 people was selected, and the data collected is shown below. \n",
    "# Testt at a 5% level of significance whether there is a significant association between gender and music preference.\n",
    "\n",
    "#        top    hip Hop    classical   rock\n",
    "# Male    40       45          25        10\n",
    "# Female  35       30          20        30"
   ]
  },
  {
   "cell_type": "code",
   "execution_count": 66,
   "id": "4290c5f2-9572-4a85-91ce-ee3362f9d095",
   "metadata": {},
   "outputs": [
    {
     "name": "stdout",
     "output_type": "stream",
     "text": [
      "120\n",
      "115\n",
      "[75 75 45 40]\n",
      "[120 115]\n"
     ]
    }
   ],
   "source": [
    "# H0: no Association\n",
    "# h1: Have Association\n",
    "\n",
    "row1 = np.array([40, 45, 25, 10])\n",
    "row2 = np.array([35, 30, 20, 30])\n",
    "\n",
    "# df = (row - 1) * (col - 1) = (2 - 1) * (4 - 1)\n",
    "df = 3\n",
    "alpha = 0.05\n",
    "t_table = 7.815\n",
    "\n",
    "sum_r1 = np.sum(row1)\n",
    "sum_r2 = np.sum(row2)\n",
    "sum_col = row1 + row2\n",
    "sum_row = np.array([sum_r1, sum_r2])\n",
    "\n",
    "print(sum_r1)\n",
    "print(sum_r2)\n",
    "print(sum_col)\n",
    "print(sum_row)"
   ]
  },
  {
   "cell_type": "code",
   "execution_count": 67,
   "id": "0ec92f7d-5e40-495d-aba3-6bdd0a7161a8",
   "metadata": {},
   "outputs": [
    {
     "data": {
      "text/plain": [
       "[np.float64(38.297872340425535),\n",
       " np.float64(38.297872340425535),\n",
       " np.float64(22.97872340425532),\n",
       " np.float64(20.425531914893618),\n",
       " np.float64(36.702127659574465),\n",
       " np.float64(36.702127659574465),\n",
       " np.float64(22.02127659574468),\n",
       " np.float64(19.574468085106382)]"
      ]
     },
     "execution_count": 67,
     "metadata": {},
     "output_type": "execute_result"
    }
   ],
   "source": [
    "exp = []\n",
    "for i in sum_row:\n",
    "    for j in sum_col:\n",
    "        value = (i * j)/ 235\n",
    "        exp.append(value)\n",
    "exp"
   ]
  },
  {
   "cell_type": "code",
   "execution_count": 68,
   "id": "d59fd14b-1196-45a6-a177-bd3bf1efe88f",
   "metadata": {},
   "outputs": [
    {
     "data": {
      "text/plain": [
       "True"
      ]
     },
     "execution_count": 68,
     "metadata": {},
     "output_type": "execute_result"
    }
   ],
   "source": [
    "obj = np.array([40, 45, 25, 10,35, 30, 20, 30])\n",
    "len(obj) == len(exp)"
   ]
  },
  {
   "cell_type": "code",
   "execution_count": 69,
   "id": "599879c1-4f73-449a-b0b5-eef19307bd58",
   "metadata": {},
   "outputs": [
    {
     "data": {
      "text/plain": [
       "np.float64(13.788747987117553)"
      ]
     },
     "execution_count": 69,
     "metadata": {},
     "output_type": "execute_result"
    }
   ],
   "source": [
    "np.sum(np.square(obj - exp)/exp)"
   ]
  },
  {
   "cell_type": "code",
   "execution_count": 70,
   "id": "6b415f32-1cc4-43a2-81d3-72b0f39516b4",
   "metadata": {},
   "outputs": [],
   "source": [
    "# t_table = 7.815 < 13.788747987117553\n",
    "# Means They are Associated"
   ]
  },
  {
   "cell_type": "code",
   "execution_count": null,
   "id": "5c57b2e4-9894-4916-83f1-d5983a8b8f2e",
   "metadata": {},
   "outputs": [],
   "source": []
  }
 ],
 "metadata": {
  "kernelspec": {
   "display_name": "Python 3 (ipykernel)",
   "language": "python",
   "name": "python3"
  },
  "language_info": {
   "codemirror_mode": {
    "name": "ipython",
    "version": 3
   },
   "file_extension": ".py",
   "mimetype": "text/x-python",
   "name": "python",
   "nbconvert_exporter": "python",
   "pygments_lexer": "ipython3",
   "version": "3.13.3"
  }
 },
 "nbformat": 4,
 "nbformat_minor": 5
}
