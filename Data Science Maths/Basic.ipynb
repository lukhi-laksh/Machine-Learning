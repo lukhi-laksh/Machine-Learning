{
 "cells": [
  {
   "cell_type": "markdown",
   "id": "6d11628f-e8c9-4b27-ab8a-9d4201ce2148",
   "metadata": {},
   "source": [
    "# Import Librarys"
   ]
  },
  {
   "cell_type": "code",
   "execution_count": 1,
   "id": "0ee973ca-e654-42ba-81f6-73329e71a8da",
   "metadata": {},
   "outputs": [],
   "source": [
    "import numpy as np\n",
    "import pandas as pd\n",
    "import matplotlib.pyplot as plt\n",
    "import seaborn as sns"
   ]
  },
  {
   "cell_type": "markdown",
   "id": "e26083e8-9012-420c-88d9-b4596301828d",
   "metadata": {},
   "source": [
    "# Import Datasets"
   ]
  },
  {
   "cell_type": "code",
   "execution_count": 2,
   "id": "65713598-13f5-478c-9c4e-e52f919cc8c1",
   "metadata": {},
   "outputs": [],
   "source": [
    "titanic_df = pd.read_csv('../Dataset/titanic.csv')\n",
    "tips_df = pd.read_csv('../Dataset/tips.csv')"
   ]
  },
  {
   "cell_type": "code",
   "execution_count": 3,
   "id": "7eb59cf7-b457-4c99-ad57-1ef40a762870",
   "metadata": {},
   "outputs": [
    {
     "data": {
      "text/html": [
       "<div>\n",
       "<style scoped>\n",
       "    .dataframe tbody tr th:only-of-type {\n",
       "        vertical-align: middle;\n",
       "    }\n",
       "\n",
       "    .dataframe tbody tr th {\n",
       "        vertical-align: top;\n",
       "    }\n",
       "\n",
       "    .dataframe thead th {\n",
       "        text-align: right;\n",
       "    }\n",
       "</style>\n",
       "<table border=\"1\" class=\"dataframe\">\n",
       "  <thead>\n",
       "    <tr style=\"text-align: right;\">\n",
       "      <th></th>\n",
       "      <th>survived</th>\n",
       "      <th>pclass</th>\n",
       "      <th>sex</th>\n",
       "      <th>age</th>\n",
       "      <th>sibsp</th>\n",
       "      <th>parch</th>\n",
       "      <th>fare</th>\n",
       "      <th>embarked</th>\n",
       "      <th>class</th>\n",
       "      <th>who</th>\n",
       "      <th>adult_male</th>\n",
       "      <th>deck</th>\n",
       "      <th>embark_town</th>\n",
       "      <th>alive</th>\n",
       "      <th>alone</th>\n",
       "    </tr>\n",
       "  </thead>\n",
       "  <tbody>\n",
       "    <tr>\n",
       "      <th>0</th>\n",
       "      <td>0</td>\n",
       "      <td>3</td>\n",
       "      <td>male</td>\n",
       "      <td>22.0</td>\n",
       "      <td>1</td>\n",
       "      <td>0</td>\n",
       "      <td>7.2500</td>\n",
       "      <td>S</td>\n",
       "      <td>Third</td>\n",
       "      <td>man</td>\n",
       "      <td>True</td>\n",
       "      <td>NaN</td>\n",
       "      <td>Southampton</td>\n",
       "      <td>no</td>\n",
       "      <td>False</td>\n",
       "    </tr>\n",
       "    <tr>\n",
       "      <th>1</th>\n",
       "      <td>1</td>\n",
       "      <td>1</td>\n",
       "      <td>female</td>\n",
       "      <td>38.0</td>\n",
       "      <td>1</td>\n",
       "      <td>0</td>\n",
       "      <td>71.2833</td>\n",
       "      <td>C</td>\n",
       "      <td>First</td>\n",
       "      <td>woman</td>\n",
       "      <td>False</td>\n",
       "      <td>C</td>\n",
       "      <td>Cherbourg</td>\n",
       "      <td>yes</td>\n",
       "      <td>False</td>\n",
       "    </tr>\n",
       "    <tr>\n",
       "      <th>2</th>\n",
       "      <td>1</td>\n",
       "      <td>3</td>\n",
       "      <td>female</td>\n",
       "      <td>26.0</td>\n",
       "      <td>0</td>\n",
       "      <td>0</td>\n",
       "      <td>7.9250</td>\n",
       "      <td>S</td>\n",
       "      <td>Third</td>\n",
       "      <td>woman</td>\n",
       "      <td>False</td>\n",
       "      <td>NaN</td>\n",
       "      <td>Southampton</td>\n",
       "      <td>yes</td>\n",
       "      <td>True</td>\n",
       "    </tr>\n",
       "  </tbody>\n",
       "</table>\n",
       "</div>"
      ],
      "text/plain": [
       "   survived  pclass     sex   age  sibsp  parch     fare embarked  class  \\\n",
       "0         0       3    male  22.0      1      0   7.2500        S  Third   \n",
       "1         1       1  female  38.0      1      0  71.2833        C  First   \n",
       "2         1       3  female  26.0      0      0   7.9250        S  Third   \n",
       "\n",
       "     who  adult_male deck  embark_town alive  alone  \n",
       "0    man        True  NaN  Southampton    no  False  \n",
       "1  woman       False    C    Cherbourg   yes  False  \n",
       "2  woman       False  NaN  Southampton   yes   True  "
      ]
     },
     "execution_count": 3,
     "metadata": {},
     "output_type": "execute_result"
    }
   ],
   "source": [
    "titanic_df.head(3)"
   ]
  },
  {
   "cell_type": "markdown",
   "id": "85a5c96b-ceab-4371-96e7-df3dd7e99352",
   "metadata": {},
   "source": [
    "# Measure of Central Tendency (Median, Mean, Mode)"
   ]
  },
  {
   "cell_type": "markdown",
   "id": "64931697-7404-4a5d-8acf-c98866572a8e",
   "metadata": {},
   "source": [
    "## Mean"
   ]
  },
  {
   "cell_type": "code",
   "execution_count": 4,
   "id": "e18c1b19-69e7-4654-ba73-b5704081cc10",
   "metadata": {},
   "outputs": [
    {
     "data": {
      "text/plain": [
       "np.float64(29.69911764705882)"
      ]
     },
     "execution_count": 4,
     "metadata": {},
     "output_type": "execute_result"
    }
   ],
   "source": [
    "titanic_df['age'].mean()"
   ]
  },
  {
   "cell_type": "code",
   "execution_count": 5,
   "id": "f65ff46c-78dd-4e8a-8f5a-af75a9fa3f61",
   "metadata": {},
   "outputs": [
    {
     "data": {
      "image/png": "[encoded data removed]",
      "text/plain": [
       "<Figure size 640x480 with 1 Axes>"
      ]
     },
     "metadata": {},
     "output_type": "display_data"
    }
   ],
   "source": [
    "mn = np.mean(titanic_df['age'])\n",
    "sns.histplot(x = 'age', data=titanic_df, bins=[i for i in range(1, 81, 10)])\n",
    "plt.plot([mn for i in range(300)], [i for i in range(300)], c = 'red')\n",
    "\n",
    "\n",
    "plt.show()"
   ]
  },
  {
   "cell_type": "code",
   "execution_count": 6,
   "id": "dab1971d-5c9a-498a-b478-c69a3e35474d",
   "metadata": {},
   "outputs": [],
   "source": [
    "titanic_df.fillna({'age': titanic_df['age'].mean()}, inplace=True)"
   ]
  },
  {
   "cell_type": "markdown",
   "id": "d6917c7f-3b7d-480d-a9dc-d83f2bf596f1",
   "metadata": {},
   "source": [
    "## Median"
   ]
  },
  {
   "cell_type": "code",
   "execution_count": 7,
   "id": "7594f6ce-cd65-4935-b121-f009892bfd44",
   "metadata": {},
   "outputs": [
    {
     "data": {
      "text/plain": [
       "np.float64(14.4542)"
      ]
     },
     "execution_count": 7,
     "metadata": {},
     "output_type": "execute_result"
    }
   ],
   "source": [
    "titanic_df['fare'].median()"
   ]
  },
  {
   "cell_type": "code",
   "execution_count": 8,
   "id": "67f155f7-11d5-44bc-99f2-35a9c6a0b061",
   "metadata": {},
   "outputs": [
    {
     "data": {
      "image/png": "[encoded data removed]",
      "text/plain": [
       "<Figure size 640x480 with 1 Axes>"
      ]
     },
     "metadata": {},
     "output_type": "display_data"
    }
   ],
   "source": [
    "mn = np.mean(titanic_df['age'])\n",
    "md = np.median(titanic_df['fare'])\n",
    "\n",
    "sns.histplot(x = 'age', data=titanic_df, bins=[i for i in range(1, 81, 10)])\n",
    "plt.plot([mn for i in range(300)], [i for i in range(300)], c = 'red')\n",
    "plt.plot([md for i in range(300)], [i for i in range(300)], c = 'green')\n",
    "\n",
    "plt.show()"
   ]
  },
  {
   "cell_type": "markdown",
   "id": "f1dac857-7348-4157-bc06-32e3a201d4bd",
   "metadata": {},
   "source": [
    "## Mode"
   ]
  },
  {
   "cell_type": "code",
   "execution_count": 9,
   "id": "2e23ffc7-3050-4c7c-94e1-f1354c8f9089",
   "metadata": {},
   "outputs": [],
   "source": [
    "mo = titanic_df['fare'].mode()[0]"
   ]
  },
  {
   "cell_type": "code",
   "execution_count": 10,
   "id": "df68f183-a48d-4be5-910c-9fe7039b8834",
   "metadata": {},
   "outputs": [
    {
     "data": {
      "text/plain": [
       "fare\n",
       "8.0500     43\n",
       "13.0000    42\n",
       "7.8958     38\n",
       "7.7500     34\n",
       "26.0000    31\n",
       "           ..\n",
       "13.8583     1\n",
       "50.4958     1\n",
       "5.0000      1\n",
       "9.8458      1\n",
       "10.5167     1\n",
       "Name: count, Length: 248, dtype: int64"
      ]
     },
     "execution_count": 10,
     "metadata": {},
     "output_type": "execute_result"
    }
   ],
   "source": [
    "titanic_df['fare'].value_counts()"
   ]
  },
  {
   "cell_type": "code",
   "execution_count": 11,
   "id": "cd88df7a-8393-4d22-848f-510ddad6cca4",
   "metadata": {},
   "outputs": [
    {
     "data": {
      "image/png": "[encoded data removed]",
      "text/plain": [
       "<Figure size 640x480 with 1 Axes>"
      ]
     },
     "metadata": {},
     "output_type": "display_data"
    }
   ],
   "source": [
    "mn = np.mean(titanic_df['age'])\n",
    "md = np.median(titanic_df['fare'])\n",
    "mo = titanic_df['fare'].mode()[0]\n",
    "\n",
    "sns.histplot(x = 'age', data=titanic_df, bins=[i for i in range(1, 81, 10)])\n",
    "plt.plot([mn for i in range(300)], [i for i in range(300)], c = 'red', label='mean')\n",
    "plt.plot([md for i in range(300)], [i for i in range(300)], c = 'green', label='median')\n",
    "plt.plot([mo for i in range(300)], [i for i in range(300)], c = 'blue', label='mode')\n",
    "plt.legend()\n",
    "\n",
    "plt.show()"
   ]
  },
  {
   "cell_type": "markdown",
   "id": "38ceec38-98ff-4965-ad6c-187908729376",
   "metadata": {},
   "source": [
    "## Range"
   ]
  },
  {
   "cell_type": "code",
   "execution_count": 12,
   "id": "338844f3-1669-4a78-a7c3-85825d388ba6",
   "metadata": {},
   "outputs": [
    {
     "data": {
      "text/plain": [
       "np.float64(79.58)"
      ]
     },
     "execution_count": 12,
     "metadata": {},
     "output_type": "execute_result"
    }
   ],
   "source": [
    "minimum = titanic_df['age'].min()\n",
    "maximum = titanic_df['age'].max()\n",
    "\n",
    "ranges = maximum - minimum\n",
    "ranges"
   ]
  },
  {
   "cell_type": "markdown",
   "id": "3974ffe4-35ae-4d81-9c83-8b41fe47d896",
   "metadata": {},
   "source": [
    "# Find Best Dataset"
   ]
  },
  {
   "cell_type": "markdown",
   "id": "25d117da-1c61-48d0-8f1c-b5c396b68d11",
   "metadata": {},
   "source": [
    "# Measures of Variability"
   ]
  },
  {
   "cell_type": "markdown",
   "id": "333043c9-2c0b-44fc-971c-052b9d97acc5",
   "metadata": {},
   "source": [
    "### Note: Whichever database has the lowest standard deviation, MAD, and variance will be the best for us, and we will use that database."
   ]
  },
  {
   "cell_type": "markdown",
   "id": "39928d60-c809-4871-9ae4-ad0fc1ed17bf",
   "metadata": {},
   "source": [
    "## 1. MAD (Mean Absolute Deviation)"
   ]
  },
  {
   "cell_type": "code",
   "execution_count": 13,
   "id": "4ea09c83-2ac1-4706-91bf-f676b0f88d5f",
   "metadata": {},
   "outputs": [
    {
     "data": {
      "image/png": "[encoded data removed]",
      "text/plain": [
       "<Figure size 640x480 with 1 Axes>"
      ]
     },
     "metadata": {},
     "output_type": "display_data"
    }
   ],
   "source": [
    "sec_a = np.array([75, 65, 73, 68, 72, 76])\n",
    "sec_b = np.array([90, 47, 43, 96, 93, 51])\n",
    "no = np.array([1, 2, 3, 4, 5, 6])\n",
    "means = np.mean(sec_a) # Both of them mean are same\n",
    "\n",
    "plt.scatter(x = sec_a, y = no, label='Sec A')\n",
    "plt.scatter(x = sec_b, y = no, color = 'r', label='Sec B')\n",
    "plt.plot([70, 70, 70, 70, 70, 70], no, color='green', label='Mean')\n",
    "plt.legend()\n",
    "\n",
    "plt.show()"
   ]
  },
  {
   "cell_type": "markdown",
   "id": "bd7675f1-8183-4004-9973-4df97ede1e2f",
   "metadata": {},
   "source": [
    "## Mean Absolute Deviation Formula: $$ MAD = \\frac{\\sum |x_i - \\bar{x}|}{n} $$\n"
   ]
  },
  {
   "cell_type": "code",
   "execution_count": 14,
   "id": "f884c97b-c4c1-4f37-9e22-ac6dfaac3b06",
   "metadata": {},
   "outputs": [
    {
     "name": "stdout",
     "output_type": "stream",
     "text": [
      "[75 65 73 68 72 76]\n",
      "71.5\n",
      "71.5\n"
     ]
    },
    {
     "data": {
      "text/plain": [
       "np.float64(9.073605334389647)"
      ]
     },
     "execution_count": 14,
     "metadata": {},
     "output_type": "execute_result"
    }
   ],
   "source": [
    "print(sec_a)\n",
    "print(sec_a.mean())\n",
    "print(abs(sec_a.mean()))\n",
    "np.sum(abs(titanic_df['age'] - titanic_df['age'].mean()))/len(titanic_df['age'])"
   ]
  },
  {
   "cell_type": "code",
   "execution_count": 15,
   "id": "a4fb0b36-af1d-42ab-b77e-1583b017f357",
   "metadata": {},
   "outputs": [
    {
     "name": "stdout",
     "output_type": "stream",
     "text": [
      "3.3333333333333335\n",
      "23.0\n"
     ]
    }
   ],
   "source": [
    "MAD_a = np.sum(abs(sec_a - sec_a.mean()))/len(sec_a)\n",
    "MAD_b = np.sum(abs(sec_b - sec_b.mean()))/len(sec_b)\n",
    "\n",
    "print(MAD_a)\n",
    "print(MAD_b)"
   ]
  },
  {
   "cell_type": "markdown",
   "id": "0c211232-6021-414c-8bfb-1cef1100841a",
   "metadata": {},
   "source": [
    "## 2. Standard Devision Formula: $$ \\sigma = \\sqrt{\\frac{\\sum (x_i - \\mu)^2}{N}} $$"
   ]
  },
  {
   "cell_type": "code",
   "execution_count": 16,
   "id": "c9467c04-df28-4204-b702-e251b542d610",
   "metadata": {},
   "outputs": [
    {
     "name": "stdout",
     "output_type": "stream",
     "text": [
      "3.8622100754188224 23.18045153428495\n"
     ]
    }
   ],
   "source": [
    "print(np.std(sec_a), np.std(sec_b))"
   ]
  },
  {
   "cell_type": "markdown",
   "id": "6ed5011c-5833-4f3a-b61a-a07b45fd213c",
   "metadata": {},
   "source": [
    "## 3. Variance Formula: $$ \\sigma^2 = \\frac{\\sum (x_i - \\mu)}{N} $$"
   ]
  },
  {
   "cell_type": "markdown",
   "id": "37ce7bcc-0db3-4048-9f6a-3a064e800c93",
   "metadata": {},
   "source": [
    "### Note: Standard Devision and Variance both are same there is diffrence is bar -\\\\|--- or sigma^2 "
   ]
  },
  {
   "cell_type": "code",
   "execution_count": 17,
   "id": "89710dab-c89f-422d-bc13-10f2cda9d36e",
   "metadata": {},
   "outputs": [
    {
     "name": "stdout",
     "output_type": "stream",
     "text": [
      "14.916666666666666 537.3333333333334\n"
     ]
    }
   ],
   "source": [
    "print(np.var(sec_a), np.var(sec_b))"
   ]
  },
  {
   "cell_type": "markdown",
   "id": "1ce88544-1e8d-43ec-b828-724a99158977",
   "metadata": {},
   "source": [
    "### Std ** 2 == Variance"
   ]
  },
  {
   "cell_type": "code",
   "execution_count": 18,
   "id": "8999e552-9993-4acb-8b98-441ca9cd2665",
   "metadata": {},
   "outputs": [
    {
     "data": {
      "text/plain": [
       "14.916666666666666"
      ]
     },
     "execution_count": 18,
     "metadata": {},
     "output_type": "execute_result"
    }
   ],
   "source": [
    "(3.8622100754188224 ) ** 2"
   ]
  },
  {
   "cell_type": "code",
   "execution_count": 19,
   "id": "280bd747-e35d-40f0-af26-247ff54dba8e",
   "metadata": {},
   "outputs": [
    {
     "data": {
      "text/html": [
       "<div>\n",
       "<style scoped>\n",
       "    .dataframe tbody tr th:only-of-type {\n",
       "        vertical-align: middle;\n",
       "    }\n",
       "\n",
       "    .dataframe tbody tr th {\n",
       "        vertical-align: top;\n",
       "    }\n",
       "\n",
       "    .dataframe thead th {\n",
       "        text-align: right;\n",
       "    }\n",
       "</style>\n",
       "<table border=\"1\" class=\"dataframe\">\n",
       "  <thead>\n",
       "    <tr style=\"text-align: right;\">\n",
       "      <th></th>\n",
       "      <th>survived</th>\n",
       "      <th>pclass</th>\n",
       "      <th>age</th>\n",
       "      <th>sibsp</th>\n",
       "      <th>parch</th>\n",
       "      <th>fare</th>\n",
       "    </tr>\n",
       "  </thead>\n",
       "  <tbody>\n",
       "    <tr>\n",
       "      <th>count</th>\n",
       "      <td>891.000000</td>\n",
       "      <td>891.000000</td>\n",
       "      <td>891.000000</td>\n",
       "      <td>891.000000</td>\n",
       "      <td>891.000000</td>\n",
       "      <td>891.000000</td>\n",
       "    </tr>\n",
       "    <tr>\n",
       "      <th>mean</th>\n",
       "      <td>0.383838</td>\n",
       "      <td>2.308642</td>\n",
       "      <td>29.699118</td>\n",
       "      <td>0.523008</td>\n",
       "      <td>0.381594</td>\n",
       "      <td>32.204208</td>\n",
       "    </tr>\n",
       "    <tr>\n",
       "      <th>std</th>\n",
       "      <td>0.486592</td>\n",
       "      <td>0.836071</td>\n",
       "      <td>13.002015</td>\n",
       "      <td>1.102743</td>\n",
       "      <td>0.806057</td>\n",
       "      <td>49.693429</td>\n",
       "    </tr>\n",
       "    <tr>\n",
       "      <th>min</th>\n",
       "      <td>0.000000</td>\n",
       "      <td>1.000000</td>\n",
       "      <td>0.420000</td>\n",
       "      <td>0.000000</td>\n",
       "      <td>0.000000</td>\n",
       "      <td>0.000000</td>\n",
       "    </tr>\n",
       "    <tr>\n",
       "      <th>25%</th>\n",
       "      <td>0.000000</td>\n",
       "      <td>2.000000</td>\n",
       "      <td>22.000000</td>\n",
       "      <td>0.000000</td>\n",
       "      <td>0.000000</td>\n",
       "      <td>7.910400</td>\n",
       "    </tr>\n",
       "    <tr>\n",
       "      <th>50%</th>\n",
       "      <td>0.000000</td>\n",
       "      <td>3.000000</td>\n",
       "      <td>29.699118</td>\n",
       "      <td>0.000000</td>\n",
       "      <td>0.000000</td>\n",
       "      <td>14.454200</td>\n",
       "    </tr>\n",
       "    <tr>\n",
       "      <th>75%</th>\n",
       "      <td>1.000000</td>\n",
       "      <td>3.000000</td>\n",
       "      <td>35.000000</td>\n",
       "      <td>1.000000</td>\n",
       "      <td>0.000000</td>\n",
       "      <td>31.000000</td>\n",
       "    </tr>\n",
       "    <tr>\n",
       "      <th>max</th>\n",
       "      <td>1.000000</td>\n",
       "      <td>3.000000</td>\n",
       "      <td>80.000000</td>\n",
       "      <td>8.000000</td>\n",
       "      <td>6.000000</td>\n",
       "      <td>512.329200</td>\n",
       "    </tr>\n",
       "  </tbody>\n",
       "</table>\n",
       "</div>"
      ],
      "text/plain": [
       "         survived      pclass         age       sibsp       parch        fare\n",
       "count  891.000000  891.000000  891.000000  891.000000  891.000000  891.000000\n",
       "mean     0.383838    2.308642   29.699118    0.523008    0.381594   32.204208\n",
       "std      0.486592    0.836071   13.002015    1.102743    0.806057   49.693429\n",
       "min      0.000000    1.000000    0.420000    0.000000    0.000000    0.000000\n",
       "25%      0.000000    2.000000   22.000000    0.000000    0.000000    7.910400\n",
       "50%      0.000000    3.000000   29.699118    0.000000    0.000000   14.454200\n",
       "75%      1.000000    3.000000   35.000000    1.000000    0.000000   31.000000\n",
       "max      1.000000    3.000000   80.000000    8.000000    6.000000  512.329200"
      ]
     },
     "execution_count": 19,
     "metadata": {},
     "output_type": "execute_result"
    }
   ],
   "source": [
    "titanic_df.describe()"
   ]
  },
  {
   "cell_type": "code",
   "execution_count": 20,
   "id": "0d3c1329-48a8-44e4-affe-49512d78b572",
   "metadata": {},
   "outputs": [
    {
     "data": {
      "text/plain": [
       "count    891.000000\n",
       "mean      29.699118\n",
       "std       13.002015\n",
       "min        0.420000\n",
       "25%       22.000000\n",
       "50%       29.699118\n",
       "75%       35.000000\n",
       "max       80.000000\n",
       "Name: age, dtype: float64"
      ]
     },
     "execution_count": 20,
     "metadata": {},
     "output_type": "execute_result"
    }
   ],
   "source": [
    "titanic_df['age'].describe()"
   ]
  },
  {
   "cell_type": "markdown",
   "id": "c06bf831-01fd-4d46-aed9-7bde97f1876e",
   "metadata": {},
   "source": [
    "## Percentile()"
   ]
  },
  {
   "cell_type": "code",
   "execution_count": 21,
   "id": "6b883166-ff4b-4590-a054-46ab1959b1ae",
   "metadata": {},
   "outputs": [
    {
     "data": {
      "text/plain": [
       "np.float64(22.0)"
      ]
     },
     "execution_count": 21,
     "metadata": {},
     "output_type": "execute_result"
    }
   ],
   "source": [
    "np.percentile(titanic_df['age'], 25)"
   ]
  },
  {
   "cell_type": "code",
   "execution_count": 22,
   "id": "fa17fd8a-58ec-42c5-be04-7d700eec99ea",
   "metadata": {},
   "outputs": [
    {
     "data": {
      "text/plain": [
       "np.float64(35.0)"
      ]
     },
     "execution_count": 22,
     "metadata": {},
     "output_type": "execute_result"
    }
   ],
   "source": [
    "np.percentile(titanic_df['age'], 75)"
   ]
  },
  {
   "cell_type": "code",
   "execution_count": 23,
   "id": "c6b972e4-d218-496c-a5f9-37433e5b3761",
   "metadata": {},
   "outputs": [
    {
     "data": {
      "text/plain": [
       "np.float64(0.42)"
      ]
     },
     "execution_count": 23,
     "metadata": {},
     "output_type": "execute_result"
    }
   ],
   "source": [
    "np.percentile(titanic_df['age'], 0) # Minimum Value"
   ]
  },
  {
   "cell_type": "code",
   "execution_count": 24,
   "id": "5fb4de3e-4509-4c1b-9248-f3dcba7b9297",
   "metadata": {},
   "outputs": [
    {
     "data": {
      "text/plain": [
       "np.float64(80.0)"
      ]
     },
     "execution_count": 24,
     "metadata": {},
     "output_type": "execute_result"
    }
   ],
   "source": [
    "np.percentile(titanic_df['age'], 100) # Maximum Value"
   ]
  },
  {
   "cell_type": "code",
   "execution_count": 25,
   "id": "e1358ae6-e1b9-479a-94eb-f25dd76e29fc",
   "metadata": {},
   "outputs": [
    {
     "name": "stdout",
     "output_type": "stream",
     "text": [
      "29.69911764705882\n"
     ]
    },
    {
     "data": {
      "text/plain": [
       "np.float64(29.69911764705882)"
      ]
     },
     "execution_count": 25,
     "metadata": {},
     "output_type": "execute_result"
    }
   ],
   "source": [
    "print(titanic_df['age'].median())     # Median\n",
    "np.percentile(titanic_df['age'], 50)"
   ]
  },
  {
   "cell_type": "code",
   "execution_count": 26,
   "id": "e06f11d5-eb20-4a99-9f6f-8052ade7ac69",
   "metadata": {},
   "outputs": [
    {
     "data": {
      "text/plain": [
       "count    891.000000\n",
       "mean      29.699118\n",
       "std       13.002015\n",
       "min        0.420000\n",
       "25%       22.000000\n",
       "50%       29.699118\n",
       "75%       35.000000\n",
       "max       80.000000\n",
       "Name: age, dtype: float64"
      ]
     },
     "execution_count": 26,
     "metadata": {},
     "output_type": "execute_result"
    }
   ],
   "source": [
    "titanic_df['age'].describe()"
   ]
  },
  {
   "cell_type": "markdown",
   "id": "9853939d-4b24-4148-84d7-2c14ef2a44ca",
   "metadata": {},
   "source": [
    "## Skewness()"
   ]
  },
  {
   "cell_type": "code",
   "execution_count": 27,
   "id": "5392d814-9d90-4a88-b26b-9116f3f50239",
   "metadata": {},
   "outputs": [],
   "source": [
    "# Skewness stand for how much data is Spred"
   ]
  },
  {
   "cell_type": "markdown",
   "id": "7426c8f8-ac5b-4f82-8f43-d563ce4ddfe9",
   "metadata": {},
   "source": [
    "### Formula of Skewness: $$ \\text{Skewness} = \\frac{\\sum (x_i - \\bar{x})^3}{(N - 1) \\cdot \\sigma^3} $$"
   ]
  },
  {
   "cell_type": "markdown",
   "id": "cd0bbf2a-89c6-46d1-832e-c0bcf06c9891",
   "metadata": {},
   "source": [
    "### Note: <b>Cumulative Distribution</b> means it is obtained by adding up the frequencies as you move to the value"
   ]
  },
  {
   "cell_type": "code",
   "execution_count": 28,
   "id": "a0c17f71-593f-4547-ac83-a0aae3a43f3d",
   "metadata": {},
   "outputs": [],
   "source": [
    "xis = [1, 3, 5, 7, 8, 9] # 1 + 3 = 4, 4 + 5 = 9, 9 + 7 = 16\n",
    "cumulative_Distribution_of_xis = [1, 4, 9, 16, 24, 33]"
   ]
  },
  {
   "cell_type": "code",
   "execution_count": 29,
   "id": "b3adc0ca-ed35-4af7-8e04-3fbfc44f10cb",
   "metadata": {},
   "outputs": [],
   "source": [
    "# Negatively skewed / left skewed= mean < median < mode\n",
    "# Positively skewed / right skewed = mode < median < mean\n",
    "# Normal = mode = median = mean"
   ]
  },
  {
   "cell_type": "code",
   "execution_count": 30,
   "id": "c3637273-2af8-41e0-8573-6ec913dd5c77",
   "metadata": {},
   "outputs": [
    {
     "data": {
      "text/plain": [
       "np.float64(0.4344880940129925)"
      ]
     },
     "execution_count": 30,
     "metadata": {},
     "output_type": "execute_result"
    }
   ],
   "source": [
    "titanic_df['age'].skew()\n",
    "\n",
    "# if it is return Positive value than right skewed\n",
    "# if it is return Negative value than left skewed"
   ]
  },
  {
   "cell_type": "code",
   "execution_count": 31,
   "id": "4d146a0a-4b64-4c6b-9f97-8f02f28fabf3",
   "metadata": {},
   "outputs": [],
   "source": [
    "x = [2, 3, 3, 4, 4, 4, 5, 5, 5, 5, 6, 6, 6, 6, 6, 7, 7, 7, 7, 7, 7, 8, 8, 8, 8, 8, 9, 9, 9, 9, 10, 10, 10, 11, 11, 12]\n",
    "\n",
    "x_df = pd.DataFrame(x)"
   ]
  },
  {
   "cell_type": "code",
   "execution_count": 32,
   "id": "42666d49-e216-4b2b-a3c5-a42dd9ed7683",
   "metadata": {},
   "outputs": [
    {
     "name": "stdout",
     "output_type": "stream",
     "text": [
      "0    7.0\n",
      "dtype: float64 0    7.0\n",
      "dtype: float64    0\n",
      "0  7\n"
     ]
    }
   ],
   "source": [
    "x_df.skew()\n",
    "\n",
    "print(x_df.mean(), x_df.median(), x_df.mode())"
   ]
  },
  {
   "cell_type": "code",
   "execution_count": 33,
   "id": "7faabe38-2e13-4bd7-a0de-f6ef98ce0af3",
   "metadata": {},
   "outputs": [
    {
     "data": {
      "image/png": "[encoded data removed]",
      "text/plain": [
       "<Figure size 640x480 with 1 Axes>"
      ]
     },
     "metadata": {},
     "output_type": "display_data"
    }
   ],
   "source": [
    "sns.histplot(x_df, bins = [2, 3, 4, 5, 6, 7, 8, 9, 10, 11, 12, 13])\n",
    "\n",
    "plt.show() # Here we can show mean = median = mode this is normal skewed"
   ]
  },
  {
   "cell_type": "markdown",
   "id": "000472ec-eb8b-4833-b50e-9050c89087d8",
   "metadata": {},
   "source": [
    "## Random Variables"
   ]
  },
  {
   "cell_type": "code",
   "execution_count": 34,
   "id": "527555e5-3343-4b46-9218-42a111df316b",
   "metadata": {},
   "outputs": [],
   "source": [
    "# Note: there are two type of Randome Variable   \n",
    "# 1. Discret Variable: Countable number of distinct values. ex. Dice, Passo\n",
    "# 2. Value that in given range and Interval ex. 2.3, 5.2 but in range"
   ]
  },
  {
   "cell_type": "markdown",
   "id": "47739f33-7e9c-492d-81d5-09b98e567ebe",
   "metadata": {},
   "source": [
    "## Probaility:"
   ]
  },
  {
   "cell_type": "markdown",
   "id": "6929006f-eef9-4306-98b9-abcc4cd4f032",
   "metadata": {},
   "source": [
    "### Formula of Probaility: $$ P(A) = \\frac{\\text{Number of times A occurs}}{\\text{Total number of possible outcomes}} $$"
   ]
  },
  {
   "cell_type": "code",
   "execution_count": 35,
   "id": "212a4776-0d79-4db1-a11d-3489f24e7bbd",
   "metadata": {},
   "outputs": [],
   "source": [
    "# in dice probaility of 4 is 1/6"
   ]
  },
  {
   "cell_type": "markdown",
   "id": "93a2e24d-57ca-49a5-9c8b-28364b544827",
   "metadata": {},
   "source": [
    "## Probability Distribution & Function"
   ]
  },
  {
   "cell_type": "code",
   "execution_count": 36,
   "id": "e928fd09-5c40-4f26-a1ca-24fd337aabf1",
   "metadata": {},
   "outputs": [],
   "source": [
    "# Note: There are two types of Probability Distribution:\n",
    "# 1. Discrete Probability Distribution -- netural value\n",
    "# 2. Continuous Probability Distribution -- Floating Value"
   ]
  },
  {
   "cell_type": "code",
   "execution_count": 37,
   "id": "3dc3868e-5cd5-4329-b42d-c2ec0bd9f76b",
   "metadata": {},
   "outputs": [],
   "source": [
    "# Note: There are Three type of Probability Function:\n",
    "# 1. Probability Density Function (PDF)\n",
    "# 2. Probability Mass Function (PMF)\n",
    "# 3. Cumulative Density Function (CDF)"
   ]
  },
  {
   "cell_type": "markdown",
   "id": "2fd12326-41b4-48b2-9b22-f5b5aa6325d2",
   "metadata": {},
   "source": [
    "# Covariance and Correlation"
   ]
  },
  {
   "cell_type": "markdown",
   "id": "35065600-999c-43a0-a98f-a47d46fe5847",
   "metadata": {},
   "source": [
    "## Covariance"
   ]
  },
  {
   "cell_type": "markdown",
   "id": "f4a2af49-fe1a-4641-9057-9879868cd7c5",
   "metadata": {},
   "source": [
    "### Note: covariance signifies the direction of the linear relationsip between the two variables."
   ]
  },
  {
   "cell_type": "markdown",
   "id": "5029ff1e-44fd-4175-bfbc-2a809e48b253",
   "metadata": {},
   "source": [
    "### Formula: $$ \\text{Cov}(x,y) = \\frac{\\sum (x_i - \\bar{x})(y_i - \\bar{y})}{N} $$"
   ]
  },
  {
   "cell_type": "code",
   "execution_count": 38,
   "id": "853e86cf-77f9-498b-bf20-ae60f6fdff51",
   "metadata": {},
   "outputs": [],
   "source": [
    "# we have two columns x and y. \n",
    "# if x increase and y also increase then it's clled Positive Covariance\n",
    "# if x decrease and y increase then it's called Nagative Covarance\n",
    "# if x change but y have same value (y stable) then it's called zero(0) no-Covariance\n",
    "# Data range in -∞ to +∞"
   ]
  },
  {
   "cell_type": "markdown",
   "id": "54d787ef-f87d-4daf-ab85-b5f0a4302007",
   "metadata": {},
   "source": [
    "## Correlation"
   ]
  },
  {
   "cell_type": "markdown",
   "id": "2c823ea0-c4c8-432f-98c2-b7280fa07998",
   "metadata": {},
   "source": [
    "### Formula: $$\\text{Correlation} = \\frac{\\text{Cov}(x,y)}{\\sigma_x \\cdot \\sigma_y}$$"
   ]
  },
  {
   "cell_type": "code",
   "execution_count": 39,
   "id": "1e51cfec-6768-4ca4-b34e-4953ccd7a9ac",
   "metadata": {},
   "outputs": [],
   "source": [
    "# Note: Covariation and Correlation is almost same but main difference is range \n",
    "# Correlaton have value only in (-1 to 1) to Analysis better than Covariation"
   ]
  },
  {
   "cell_type": "code",
   "execution_count": 40,
   "id": "a6cb39d3-7e6e-40bf-bf9e-27c7e15af99a",
   "metadata": {},
   "outputs": [],
   "source": [
    "# 0 to -0.5 --> Week Negative Correlation\n",
    "# -0.5 to -1 --> Strong Negative Correlation\n",
    "# 0 to 0.5 --> week Positive Correlation\n",
    "# 0.5 to 1 --> Strong Positive Correlation"
   ]
  },
  {
   "cell_type": "code",
   "execution_count": 41,
   "id": "464993df-88fc-4316-bcc7-9e7aed675815",
   "metadata": {},
   "outputs": [
    {
     "data": {
      "text/html": [
       "<div>\n",
       "<style scoped>\n",
       "    .dataframe tbody tr th:only-of-type {\n",
       "        vertical-align: middle;\n",
       "    }\n",
       "\n",
       "    .dataframe tbody tr th {\n",
       "        vertical-align: top;\n",
       "    }\n",
       "\n",
       "    .dataframe thead th {\n",
       "        text-align: right;\n",
       "    }\n",
       "</style>\n",
       "<table border=\"1\" class=\"dataframe\">\n",
       "  <thead>\n",
       "    <tr style=\"text-align: right;\">\n",
       "      <th></th>\n",
       "      <th>total_bill</th>\n",
       "      <th>tip</th>\n",
       "      <th>sex</th>\n",
       "      <th>smoker</th>\n",
       "      <th>day</th>\n",
       "      <th>time</th>\n",
       "      <th>size</th>\n",
       "    </tr>\n",
       "  </thead>\n",
       "  <tbody>\n",
       "    <tr>\n",
       "      <th>0</th>\n",
       "      <td>16.99</td>\n",
       "      <td>1.01</td>\n",
       "      <td>Female</td>\n",
       "      <td>No</td>\n",
       "      <td>Sun</td>\n",
       "      <td>Dinner</td>\n",
       "      <td>2</td>\n",
       "    </tr>\n",
       "    <tr>\n",
       "      <th>1</th>\n",
       "      <td>10.34</td>\n",
       "      <td>1.66</td>\n",
       "      <td>Male</td>\n",
       "      <td>No</td>\n",
       "      <td>Sun</td>\n",
       "      <td>Dinner</td>\n",
       "      <td>3</td>\n",
       "    </tr>\n",
       "    <tr>\n",
       "      <th>2</th>\n",
       "      <td>21.01</td>\n",
       "      <td>3.50</td>\n",
       "      <td>Male</td>\n",
       "      <td>No</td>\n",
       "      <td>Sun</td>\n",
       "      <td>Dinner</td>\n",
       "      <td>3</td>\n",
       "    </tr>\n",
       "  </tbody>\n",
       "</table>\n",
       "</div>"
      ],
      "text/plain": [
       "   total_bill   tip     sex smoker  day    time  size\n",
       "0       16.99  1.01  Female     No  Sun  Dinner     2\n",
       "1       10.34  1.66    Male     No  Sun  Dinner     3\n",
       "2       21.01  3.50    Male     No  Sun  Dinner     3"
      ]
     },
     "execution_count": 41,
     "metadata": {},
     "output_type": "execute_result"
    }
   ],
   "source": [
    "tips_df.head(3)"
   ]
  },
  {
   "cell_type": "code",
   "execution_count": 42,
   "id": "1b70aa15-0346-43f6-9079-6c1c0cd7b97e",
   "metadata": {},
   "outputs": [
    {
     "name": "stdout",
     "output_type": "stream",
     "text": [
      "<class 'pandas.core.frame.DataFrame'>\n",
      "RangeIndex: 244 entries, 0 to 243\n",
      "Data columns (total 7 columns):\n",
      " #   Column      Non-Null Count  Dtype  \n",
      "---  ------      --------------  -----  \n",
      " 0   total_bill  244 non-null    float64\n",
      " 1   tip         244 non-null    float64\n",
      " 2   sex         244 non-null    object \n",
      " 3   smoker      244 non-null    object \n",
      " 4   day         244 non-null    object \n",
      " 5   time        244 non-null    object \n",
      " 6   size        244 non-null    int64  \n",
      "dtypes: float64(2), int64(1), object(4)\n",
      "memory usage: 13.5+ KB\n"
     ]
    }
   ],
   "source": [
    "tips_df.info()"
   ]
  },
  {
   "cell_type": "code",
   "execution_count": 43,
   "id": "56e240eb-623f-4bc2-a301-02a9bca9ad74",
   "metadata": {},
   "outputs": [
    {
     "data": {
      "text/html": [
       "<div>\n",
       "<style scoped>\n",
       "    .dataframe tbody tr th:only-of-type {\n",
       "        vertical-align: middle;\n",
       "    }\n",
       "\n",
       "    .dataframe tbody tr th {\n",
       "        vertical-align: top;\n",
       "    }\n",
       "\n",
       "    .dataframe thead th {\n",
       "        text-align: right;\n",
       "    }\n",
       "</style>\n",
       "<table border=\"1\" class=\"dataframe\">\n",
       "  <thead>\n",
       "    <tr style=\"text-align: right;\">\n",
       "      <th></th>\n",
       "      <th>total_bill</th>\n",
       "      <th>tip</th>\n",
       "      <th>size</th>\n",
       "    </tr>\n",
       "  </thead>\n",
       "  <tbody>\n",
       "    <tr>\n",
       "      <th>total_bill</th>\n",
       "      <td>1.000000</td>\n",
       "      <td>0.675734</td>\n",
       "      <td>0.598315</td>\n",
       "    </tr>\n",
       "    <tr>\n",
       "      <th>tip</th>\n",
       "      <td>0.675734</td>\n",
       "      <td>1.000000</td>\n",
       "      <td>0.489299</td>\n",
       "    </tr>\n",
       "    <tr>\n",
       "      <th>size</th>\n",
       "      <td>0.598315</td>\n",
       "      <td>0.489299</td>\n",
       "      <td>1.000000</td>\n",
       "    </tr>\n",
       "  </tbody>\n",
       "</table>\n",
       "</div>"
      ],
      "text/plain": [
       "            total_bill       tip      size\n",
       "total_bill    1.000000  0.675734  0.598315\n",
       "tip           0.675734  1.000000  0.489299\n",
       "size          0.598315  0.489299  1.000000"
      ]
     },
     "execution_count": 43,
     "metadata": {},
     "output_type": "execute_result"
    }
   ],
   "source": [
    "tips_corr = tips_df.select_dtypes(['float64', 'int64']).corr()\n",
    "tips_corr\n",
    "# Find correlation here all of them value between 0 to 1"
   ]
  },
  {
   "cell_type": "code",
   "execution_count": 44,
   "id": "1206803a-ef01-466c-8e2e-c9c447193eb5",
   "metadata": {},
   "outputs": [
    {
     "data": {
      "text/html": [
       "<div>\n",
       "<style scoped>\n",
       "    .dataframe tbody tr th:only-of-type {\n",
       "        vertical-align: middle;\n",
       "    }\n",
       "\n",
       "    .dataframe tbody tr th {\n",
       "        vertical-align: top;\n",
       "    }\n",
       "\n",
       "    .dataframe thead th {\n",
       "        text-align: right;\n",
       "    }\n",
       "</style>\n",
       "<table border=\"1\" class=\"dataframe\">\n",
       "  <thead>\n",
       "    <tr style=\"text-align: right;\">\n",
       "      <th></th>\n",
       "      <th>total_bill</th>\n",
       "      <th>tip</th>\n",
       "      <th>size</th>\n",
       "    </tr>\n",
       "  </thead>\n",
       "  <tbody>\n",
       "    <tr>\n",
       "      <th>total_bill</th>\n",
       "      <td>79.252939</td>\n",
       "      <td>8.323502</td>\n",
       "      <td>5.065983</td>\n",
       "    </tr>\n",
       "    <tr>\n",
       "      <th>tip</th>\n",
       "      <td>8.323502</td>\n",
       "      <td>1.914455</td>\n",
       "      <td>0.643906</td>\n",
       "    </tr>\n",
       "    <tr>\n",
       "      <th>size</th>\n",
       "      <td>5.065983</td>\n",
       "      <td>0.643906</td>\n",
       "      <td>0.904591</td>\n",
       "    </tr>\n",
       "  </tbody>\n",
       "</table>\n",
       "</div>"
      ],
      "text/plain": [
       "            total_bill       tip      size\n",
       "total_bill   79.252939  8.323502  5.065983\n",
       "tip           8.323502  1.914455  0.643906\n",
       "size          5.065983  0.643906  0.904591"
      ]
     },
     "execution_count": 44,
     "metadata": {},
     "output_type": "execute_result"
    }
   ],
   "source": [
    "tips_cov = tips_df.select_dtypes(['float64', 'int64']).cov()\n",
    "tips_cov\n",
    "# Find Covariance of data range infinity"
   ]
  },
  {
   "cell_type": "code",
   "execution_count": 45,
   "id": "d3113d95-fa74-4a22-ac12-10157fb40ff8",
   "metadata": {},
   "outputs": [
    {
     "data": {
      "image/png": "[encoded data removed]",
      "text/plain": [
       "<Figure size 400x300 with 2 Axes>"
      ]
     },
     "metadata": {},
     "output_type": "display_data"
    }
   ],
   "source": [
    "# Correlation of tips_corr Heatmap\n",
    "plt.figure(figsize=(4, 3))\n",
    "sns.heatmap(tips_corr, annot=True)\n",
    "plt.show()"
   ]
  },
  {
   "cell_type": "code",
   "execution_count": 46,
   "id": "e3dd3d42-9460-43f2-85da-d4c6f5e63416",
   "metadata": {},
   "outputs": [
    {
     "data": {
      "image/png": "[encoded data removed]",
      "text/plain": [
       "<Figure size 400x300 with 2 Axes>"
      ]
     },
     "metadata": {},
     "output_type": "display_data"
    }
   ],
   "source": [
    "# Covariation of tips_corr Heatmap\n",
    "plt.figure(figsize=(4, 3))\n",
    "sns.heatmap(tips_cov, annot=True)\n",
    "plt.show()"
   ]
  },
  {
   "cell_type": "markdown",
   "id": "a4217457-5fce-47da-aead-d1de66960c73",
   "metadata": {},
   "source": [
    "## Central Limit Theorem (CLT)"
   ]
  },
  {
   "cell_type": "code",
   "execution_count": 47,
   "id": "486c83b9-056b-4cdf-9aaa-11789248d1a9",
   "metadata": {},
   "outputs": [],
   "source": [
    "# Centeral limit theorem is known as cut population data into sample data and find mean both are almost same\n",
    "# Condition:\n",
    "# 1. We must need to choose data Randomaly not contiously\n",
    "# 2. Sample data is no more than 10%\n",
    "# 3. we must need to select more than 30 record"
   ]
  },
  {
   "cell_type": "code",
   "execution_count": 48,
   "id": "80f50dfe-a46b-4150-b5c2-75655baf5d98",
   "metadata": {},
   "outputs": [
    {
     "data": {
      "image/png": "[encoded data removed]",
      "text/plain": [
       "<Figure size 500x300 with 1 Axes>"
      ]
     },
     "metadata": {},
     "output_type": "display_data"
    }
   ],
   "source": [
    "# Let's create Synthetic Data\n",
    "pop_data = np.random.randint(10, 100, size=10000)\n",
    "\n",
    "pop_table = pd.DataFrame({'pop_data':pop_data})\n",
    "\n",
    "plt.figure(figsize=(5, 3))\n",
    "sns.kdeplot(pop_table)\n",
    "plt.show()"
   ]
  },
  {
   "cell_type": "code",
   "execution_count": 49,
   "id": "526fa2a7-ede1-4282-ae4f-386ef43b6e97",
   "metadata": {},
   "outputs": [
    {
     "name": "stdout",
     "output_type": "stream",
     "text": [
      "[39 84 37 ... 98 64 74]\n"
     ]
    }
   ],
   "source": [
    "print(pop_data)"
   ]
  },
  {
   "cell_type": "code",
   "execution_count": 50,
   "id": "9999681b-d6e0-4545-b85d-ee69edd7f004",
   "metadata": {},
   "outputs": [
    {
     "name": "stdout",
     "output_type": "stream",
     "text": [
      "[np.float64(54.136), np.float64(54.368), np.float64(54.574), np.float64(52.31), np.float64(52.326), np.float64(53.532), np.float64(54.126), np.float64(55.972), np.float64(54.276), np.float64(52.436), np.float64(54.14), np.float64(54.844), np.float64(52.452), np.float64(55.06), np.float64(54.97), np.float64(54.096), np.float64(54.868), np.float64(53.604), np.float64(56.694), np.float64(54.296), np.float64(54.732), np.float64(55.39), np.float64(52.914), np.float64(53.148), np.float64(54.442), np.float64(55.038), np.float64(52.806), np.float64(55.598), np.float64(54.224), np.float64(55.394), np.float64(52.77), np.float64(53.238), np.float64(53.16), np.float64(54.834), np.float64(53.12), np.float64(52.762), np.float64(54.66), np.float64(53.85), np.float64(54.566), np.float64(55.502), np.float64(54.388), np.float64(55.198), np.float64(55.268), np.float64(53.85), np.float64(53.87), np.float64(55.634), np.float64(54.232), np.float64(54.822), np.float64(54.658), np.float64(53.898), np.float64(55.14), np.float64(54.348), np.float64(54.75), np.float64(53.122), np.float64(55.208), np.float64(57.012), np.float64(54.33), np.float64(53.392), np.float64(56.498), np.float64(55.818), np.float64(55.302), np.float64(52.832), np.float64(54.742), np.float64(53.344), np.float64(56.552), np.float64(55.326), np.float64(54.422), np.float64(55.686), np.float64(53.772), np.float64(52.676), np.float64(53.83), np.float64(55.376), np.float64(52.562), np.float64(56.278), np.float64(55.852), np.float64(56.252), np.float64(55.046), np.float64(52.488), np.float64(54.9), np.float64(56.252), np.float64(52.89), np.float64(54.536), np.float64(54.894), np.float64(54.984), np.float64(54.792), np.float64(53.394), np.float64(54.426), np.float64(54.408), np.float64(53.864), np.float64(53.998), np.float64(55.064), np.float64(55.562), np.float64(53.108), np.float64(53.286), np.float64(54.188), np.float64(54.724), np.float64(53.118), np.float64(53.5), np.float64(54.878), np.float64(54.06)]\n",
      "54.4906\n",
      "54.37828000000001\n"
     ]
    }
   ],
   "source": [
    "Sample_M = []\n",
    "for i in range(100):\n",
    "    Sample_test = []\n",
    "    for j in range(500):\n",
    "        Sample_test.append(np.random.choice(pop_data))\n",
    "    Sample_M.append(np.mean(Sample_test))\n",
    "print(Sample_M)\n",
    "print(np.mean(pop_table))\n",
    "print(np.mean(Sample_M))"
   ]
  },
  {
   "cell_type": "code",
   "execution_count": 51,
   "id": "c1b33dc3-ae0d-421e-b6e3-daf742809ff5",
   "metadata": {},
   "outputs": [
    {
     "data": {
      "image/png": "[encoded data removed]",
      "text/plain": [
       "<Figure size 700x300 with 1 Axes>"
      ]
     },
     "metadata": {},
     "output_type": "display_data"
    }
   ],
   "source": [
    "plt.figure(figsize=(7, 3))\n",
    "sns.kdeplot(Sample_M)\n",
    "plt.show()"
   ]
  },
  {
   "cell_type": "markdown",
   "id": "b9c7932f-d52e-4836-9902-989d42e9d86b",
   "metadata": {},
   "source": [
    "## Hypothesis Testing"
   ]
  },
  {
   "cell_type": "code",
   "execution_count": 54,
   "id": "ed8ca0b9-6efe-437e-9b01-fa4b00e17905",
   "metadata": {},
   "outputs": [],
   "source": [
    "# There are two Terminology used in Hypotesis Testing:\n",
    "# 1. Null Hypothesis: It's a Stastical Theory that Sudggests there is no stastical significance exists between two population. \n",
    "#                it's value is 0. also known as 'H0', most sign used: =, >=, <=\n",
    "# 2. Alternative Hypothesis: it's sudgest there is a s ignificance difference between the Population Parameters. \n",
    "#                it's also known as (H1), most sign used: !=, <, >\n",
    "\n",
    "# there is mainly three way to find:\n",
    "# 1. Z-Test\n",
    "# 2. T-Test\n",
    "# 3. Chi Square Test"
   ]
  },
  {
   "cell_type": "markdown",
   "id": "8fa3da91-7574-4096-acc6-ef3f7876c7ed",
   "metadata": {},
   "source": [
    "### Step of Hypothesis Testing:"
   ]
  },
  {
   "cell_type": "code",
   "execution_count": null,
   "id": "f6f9bd65-5557-4cc1-af73-2256bc903a3b",
   "metadata": {},
   "outputs": [],
   "source": [
    "# State null(H0) and alternative(H1) hypothesis\n",
    "# Choose level of significance(a)\n",
    "# Find critical values\n",
    "# Find test statistic\n",
    "# Draw your conclusion"
   ]
  },
  {
   "cell_type": "markdown",
   "id": "b1adf51f-c04b-4ba1-a406-d146800f6906",
   "metadata": {},
   "source": [
    "### Z-Test Algorithm: $$ t = \\frac{\\bar{x} - \\mu}{\\frac{\\sigma}{\\sqrt{n}}} $$"
   ]
  },
  {
   "cell_type": "code",
   "execution_count": 55,
   "id": "acf93a4c-819c-4696-82ef-12c7b95b82d8",
   "metadata": {},
   "outputs": [],
   "source": [
    "# In This algo:\n",
    "# x̄ = Sample Mean\n",
    "# μ = Population Mean\n",
    "# σ = Population standard Deviasion\n",
    "# n = Number of Sample data"
   ]
  },
  {
   "cell_type": "code",
   "execution_count": 58,
   "id": "b8a4a29d-97fe-4389-96ae-976c12535713",
   "metadata": {},
   "outputs": [
    {
     "name": "stdout",
     "output_type": "stream",
     "text": [
      "Calculated Z value: 3.5999999999999996\n"
     ]
    }
   ],
   "source": [
    "# Example:\n",
    "# A teacher claims that the mean score of students in his class is greater than 82\n",
    "# with a standard deviation of 20. A sample of 81 students was selected \n",
    "# with a mean score of 90.\n",
    "\n",
    "# Step 1: Define the hypotheses\n",
    "# H0: μ = 82   (mean score is 82)\n",
    "# H1: μ > 82   (mean score is greater than 82)\n",
    "\n",
    "# Step 2: Given values\n",
    "s_x = 90      # sample mean (x̄)\n",
    "p_u = 82      # population mean (μ)\n",
    "p_std = 20    # population standard deviation (σ)\n",
    "n = 81        # sample size\n",
    "\n",
    "# Step 3: Calculate Z-test statistic\n",
    "z_cal = (s_x - p_u) / (p_std / np.sqrt(n))\n",
    "print(\"Calculated Z value:\", z_cal)\n"
   ]
  },
  {
   "cell_type": "code",
   "execution_count": null,
   "id": "b35771f1-73a2-48ea-8aa8-0f90aca0ddf3",
   "metadata": {},
   "outputs": [],
   "source": []
  }
 ],
 "metadata": {
  "kernelspec": {
   "display_name": "Python 3 (ipykernel)",
   "language": "python",
   "name": "python3"
  },
  "language_info": {
   "codemirror_mode": {
    "name": "ipython",
    "version": 3
   },
   "file_extension": ".py",
   "mimetype": "text/x-python",
   "name": "python",
   "nbconvert_exporter": "python",
   "pygments_lexer": "ipython3",
   "version": "3.13.3"
  }
 },
 "nbformat": 4,
 "nbformat_minor": 5
}
